{
 "cells": [
  {
   "cell_type": "markdown",
   "id": "0f66a466",
   "metadata": {},
   "source": [
    "# Now for getters and setters!"
   ]
  },
  {
   "cell_type": "markdown",
   "id": "6e84fc42",
   "metadata": {},
   "source": [
    "## Motivation:\n",
    "### Have a class Student that defines attributes that are themselves instances of a \"TestScore\" class. These attributes should only be overwritten if the TestScore.score is greater than the previous value. Each attribute of Student refers to a qualification he has, and each qualification is updated by a TestScore.\n"
   ]
  },
  {
   "cell_type": "code",
   "execution_count": 2,
   "id": "e08c2565",
   "metadata": {},
   "outputs": [],
   "source": [
    "from typing import Type, Generic, TypeVar\n",
    "from dataclasses import dataclass"
   ]
  },
  {
   "cell_type": "code",
   "execution_count": null,
   "id": "38020d70",
   "metadata": {},
   "outputs": [],
   "source": [
    "T = TypeVar('T',str,bool,float,int) # `T` can either be a str, bool, float, or int\n",
    "\n",
    "\n",
    "\n",
    "class TestScore(Generic[T]):\n",
    "    value:T = "
   ]
  },
  {
   "cell_type": "code",
   "execution_count": 3,
   "id": "b8b8f5a6",
   "metadata": {},
   "outputs": [],
   "source": [
    "Generic??\n"
   ]
  },
  {
   "cell_type": "code",
   "execution_count": null,
   "id": "5ee1d485",
   "metadata": {},
   "outputs": [],
   "source": []
  },
  {
   "cell_type": "code",
   "execution_count": null,
   "id": "a4c5b5e6",
   "metadata": {},
   "outputs": [],
   "source": [
    "def add_stars(func): # This function add_stars will receive a function as an input\n",
    "    def func_that_gets_returned(*args, **kwargs): \n",
    "        # This name doesn't matter. It's what the decorated function gets transformed into\n",
    "        # Note that *args and **kwargs could be anything. Doing this allows the decorated function to \n",
    "        # have any signature, and this decorator will allow it to work\n",
    "        print('*'*15)\n",
    "        func(*args, **kwargs) # execute the function like normal\n",
    "        print('*'*15)\n",
    "    return func_that_gets_returned\n",
    "\n",
    "class A:\n",
    "    def __init__(self,a):\n",
    "        self.a=a\n",
    "        print(\"in class constructor\")\n",
    "\n",
    "a = A(1)\n",
    "\n",
    "\n",
    "print('\\n'*3)\n",
    "\n",
    "@add_stars\n",
    "class B:\n",
    "    def __init__(self,a):\n",
    "        self.a=a\n",
    "        print(\"in class constructor with stars around it\")\n",
    "\n",
    "b = B(1)"
   ]
  }
 ],
 "metadata": {
  "kernelspec": {
   "display_name": "Python 3 (ipykernel)",
   "language": "python",
   "name": "python3"
  },
  "language_info": {
   "codemirror_mode": {
    "name": "ipython",
    "version": 3
   },
   "file_extension": ".py",
   "mimetype": "text/x-python",
   "name": "python",
   "nbconvert_exporter": "python",
   "pygments_lexer": "ipython3",
   "version": "3.11.4"
  }
 },
 "nbformat": 4,
 "nbformat_minor": 5
}
