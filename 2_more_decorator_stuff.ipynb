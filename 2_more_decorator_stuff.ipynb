{
 "cells": [
  {
   "cell_type": "markdown",
   "id": "0f66a466",
   "metadata": {},
   "source": [
    "# Now for getters and setters!"
   ]
  },
  {
   "cell_type": "markdown",
   "id": "6e84fc42",
   "metadata": {},
   "source": [
    "## Motivation:\n",
    "### Have a class Student that defines attributes that are themselves instances of a \"TestScore\" class. These attributes should only be overwritten if the TestScore.score is greater than the previous value. Each attribute of Student refers to a qualification he has, and each qualification is updated by a TestScore.\n"
   ]
  },
  {
   "cell_type": "code",
   "execution_count": 3,
   "id": "38020d70",
   "metadata": {},
   "outputs": [
    {
     "data": {
      "text/plain": [
       "Math score: 50"
      ]
     },
     "execution_count": 3,
     "metadata": {},
     "output_type": "execute_result"
    }
   ],
   "source": [
    "from typing import Optional\n",
    "\n",
    "\n",
    "class PopQuiz:\n",
    "    def __init__(self, subject: str, best_evaluation_score: int, test_day: str) -> None:\n",
    "        self.subject: str = subject\n",
    "        self.best_evaluation_score: int = best_evaluation_score\n",
    "        self.test_day: str = test_day\n",
    "    def __repr__(self):\n",
    "        return f'{self.subject} score: {self.best_evaluation_score}'\n",
    "\n",
    "\n",
    "class ReportCard:\n",
    "    def __init__(\n",
    "            self, \n",
    "            gym: Optional[PopQuiz] = None, \n",
    "            art: Optional[PopQuiz] = None, \n",
    "            math: Optional[PopQuiz] = None, \n",
    "            science: Optional[PopQuiz] = None, \n",
    "        ) -> None:\n",
    "        self.gym: Optional[PopQuiz] = gym\n",
    "        self.art: Optional[PopQuiz] = art\n",
    "        self.math: Optional[PopQuiz] = math\n",
    "        self.science: Optional[PopQuiz] = science\n",
    "\n",
    "\n",
    "joe_grades = ReportCard()\n",
    "\n",
    "joe_grades.math = PopQuiz(\"Math\", 60, \"Monday\")\n",
    "joe_grades.math = PopQuiz(\"Math\", 50, \"Monday\")\n",
    "\n",
    "joe_grades.math\n"
   ]
  },
  {
   "cell_type": "markdown",
   "id": "d731435b",
   "metadata": {},
   "source": [
    "### This sucks cause Joe should have a 60 not a 50! Let's investigate how we can prevent assignment unless the score is better than the current score. But first, a look at getters and setters."
   ]
  },
  {
   "cell_type": "code",
   "execution_count": 12,
   "id": "5ee1d485",
   "metadata": {},
   "outputs": [
    {
     "name": "stdout",
     "output_type": "stream",
     "text": [
      "some_value\n",
      "some_value\n",
      "default_val_if_doesn't_exist\n"
     ]
    }
   ],
   "source": [
    "# A boring class with no properties\n",
    "class A:\n",
    "    def __repr__(self):\n",
    "        return f'{vars(self)}'\n",
    "\n",
    "a = A()\n",
    "\n",
    "setattr(a, \"some_attr\", \"some_value\")\n",
    "print(a.some_attr)\n",
    "print(getattr(a, 'some_attr'))\n",
    "print(getattr(a, 'non_existent_attr', \"default_val_if_doesn't_exist\"))"
   ]
  },
  {
   "cell_type": "markdown",
   "id": "b2d1e8b9",
   "metadata": {},
   "source": [
    "### Cool, cool. Let's go deeper. What if we want to add custom logic to the getters and setters? We can define them in the class like so... note that public attribute names are now actually METHODS with that attribute's name! And the "
   ]
  },
  {
   "cell_type": "markdown",
   "id": "cb8b39d0",
   "metadata": {},
   "source": [
    "### So unfortunately to avoid recusion error, we need to create two attrs for each instance attribute. Convention is to have the \"private\" one have an underscore"
   ]
  },
  {
   "cell_type": "code",
   "execution_count": 18,
   "id": "3a0edcca",
   "metadata": {},
   "outputs": [
    {
     "name": "stdout",
     "output_type": "stream",
     "text": [
      "1\n"
     ]
    },
    {
     "ename": "AttributeError",
     "evalue": "property 'x' of 'A' object has no setter",
     "output_type": "error",
     "traceback": [
      "\u001b[0;31m---------------------------------------------------------------------------\u001b[0m",
      "\u001b[0;31mAttributeError\u001b[0m                            Traceback (most recent call last)",
      "Cell \u001b[0;32mIn[18], line 13\u001b[0m\n\u001b[1;32m     10\u001b[0m a \u001b[38;5;241m=\u001b[39m A()\n\u001b[1;32m     12\u001b[0m \u001b[38;5;28mprint\u001b[39m(a\u001b[38;5;241m.\u001b[39mx)\n\u001b[0;32m---> 13\u001b[0m a\u001b[38;5;241m.\u001b[39mx \u001b[38;5;241m=\u001b[39m \u001b[38;5;241m3\u001b[39m\n",
      "\u001b[0;31mAttributeError\u001b[0m: property 'x' of 'A' object has no setter"
     ]
    }
   ],
   "source": [
    "# A boring class with no properties\n",
    "class A:\n",
    "    def __repr__(self):\n",
    "        return f'{vars(self)}'\n",
    "    _x = 1\n",
    "    @property\n",
    "    def x(self):\n",
    "        return self._x\n",
    "\n",
    "a = A()\n",
    "\n",
    "print(a.x)\n",
    "a.x = 3"
   ]
  },
  {
   "cell_type": "markdown",
   "id": "e50fd918",
   "metadata": {},
   "source": [
    "### Let's add a setter"
   ]
  },
  {
   "cell_type": "code",
   "execution_count": 25,
   "id": "0bbd2b82",
   "metadata": {},
   "outputs": [
    {
     "name": "stdout",
     "output_type": "stream",
     "text": [
      "1\n",
      "3\n",
      "3\n"
     ]
    }
   ],
   "source": [
    "# A boring class with no properties\n",
    "class A:\n",
    "    def __repr__(self):\n",
    "        return f'{vars(self)}'\n",
    "    _x = 1\n",
    "    @property\n",
    "    def x(self):\n",
    "        return self._x\n",
    "    @x.setter\n",
    "    def x(self, new_val):\n",
    "        self._x = new_val\n",
    "    \n",
    "\n",
    "a = A()\n",
    "\n",
    "print(a.x)\n",
    "a.x = 3\n",
    "print(a.x)\n",
    "print(a._x)"
   ]
  },
  {
   "cell_type": "code",
   "execution_count": null,
   "id": "830ba23b",
   "metadata": {},
   "outputs": [],
   "source": []
  },
  {
   "cell_type": "code",
   "execution_count": 29,
   "id": "dc16a0bb",
   "metadata": {},
   "outputs": [
    {
     "name": "stdout",
     "output_type": "stream",
     "text": [
      "66\n",
      "4\n",
      "4\n"
     ]
    }
   ],
   "source": [
    "# A boring class with no properties\n",
    "class A:\n",
    "    def __init__(self,a):\n",
    "        self._a = a\n",
    "    @property\n",
    "    def a(self):\n",
    "        return self._a\n",
    "    @a.setter\n",
    "    def a(self, new_val):\n",
    "        self._a = new_val+1\n",
    "    \n",
    "\n",
    "a = A(66)\n",
    "\n",
    "print(a.a)\n",
    "a.a = 3\n",
    "print(a.a)\n",
    "print(a._a)"
   ]
  },
  {
   "cell_type": "markdown",
   "id": "f1cae86a",
   "metadata": {},
   "source": [
    "### Try and factor out the @property stuff OUTSIDE of the class definition... but first more info on how decorators work"
   ]
  },
  {
   "cell_type": "code",
   "execution_count": null,
   "id": "ed0b3fcd",
   "metadata": {},
   "outputs": [],
   "source": [
    "# Don't worry too much about what the decorator does. Just note that the decorator itself takes in args. So how does\n",
    "# the class definition get passed to the decorator?\n",
    "def add_attribute(attribute_name, attribute_value):\n",
    "    def class_decorator(cls):\n",
    "        # Save a reference to the original __init__\n",
    "        original_init = cls.__init__\n",
    "\n",
    "        # Make a new __init__ that adds an attribute\n",
    "        def new_init(self, *args, **kwargs):\n",
    "            # Call the original __init__\n",
    "            original_init(self, *args, **kwargs)\n",
    "\n",
    "            # Add the new attribute\n",
    "            setattr(self, attribute_name, attribute_value)\n",
    "\n",
    "        # Replace the original __init__ with the new one\n",
    "        cls.__init__ = new_init\n",
    "\n",
    "        return cls\n",
    "\n",
    "    return class_decorator\n",
    "\n",
    "\n",
    "@add_attribute('new_attr', 42)\n",
    "class A:\n",
    "    def __init__(self, a):\n",
    "        self._someattribute = a\n",
    "\n",
    "\n",
    "# Test it out\n",
    "a = A(10)\n",
    "print(a._someattribute)  # 10\n",
    "print(a.new_attr)  # 42\n",
    "\n",
    "\n",
    "\n",
    "\n",
    "\n",
    "# When you write this\n",
    "@add_attribute('new_attr', 42)\n",
    "class A:\n",
    "    def __init__(self, a):\n",
    "        self._someattribute = a\n",
    "        \n",
    "# it is the same as this\n",
    "\n",
    "class A:\n",
    "    def __init__(self, a):\n",
    "        self._someattribute = a\n",
    "\n",
    "A = add_attribute('new_attr', 42)(A)"
   ]
  },
  {
   "cell_type": "markdown",
   "id": "6e0cb995",
   "metadata": {},
   "source": [
    "### In other words, the add_attribute('new_attr', 42) call returns a class decorator (which is itself a function), and then that decorator is called with A as its argument."
   ]
  },
  {
   "cell_type": "markdown",
   "id": "1de2fd21",
   "metadata": {},
   "source": [
    "### add_attribute('new_attr', 42) is called, which returns the class_decorator function.\n",
    "1. The class_decorator function is called with `A` as its argument `(class_decorator(A))`, which modifies `A'`s `__init__` method and then returns `A`.\n",
    "2. The modified `A` is then assigned back to `A`.\n",
    "3. This is why, after the decorator is applied, instances of `A` have a `new_attr` attribute. The decorator modified the `A` class to add this attribute during initialization."
   ]
  },
  {
   "cell_type": "code",
   "execution_count": 45,
   "id": "8e3d1a6a",
   "metadata": {},
   "outputs": [
    {
     "name": "stdout",
     "output_type": "stream",
     "text": [
      "{}\n",
      "dict_items([('someattribute', 1)])\n"
     ]
    },
    {
     "data": {
      "text/plain": [
       "[('someattribute', 1)]"
      ]
     },
     "execution_count": 45,
     "metadata": {},
     "output_type": "execute_result"
    }
   ],
   "source": [
    "# A boring class with no properties\n",
    "class A:\n",
    "    def __init__(self,a):\n",
    "        self.someattribute = a\n",
    "    \n",
    "\n",
    "a = A(1)\n",
    "    \n",
    "print(vars(A.__init__))\n",
    "print(vars(a).items())\n",
    "[(a,b) for a,b in vars(a).items()]"
   ]
  },
  {
   "cell_type": "markdown",
   "id": "2abc9ff7",
   "metadata": {},
   "source": [
    "### So there's no way to get instance attribute data by looking at the class definition :( \n",
    "### Which means we need to go even deeper... We need to make a decorator that fucks with the class's `__init__` method if we want to edit instance data"
   ]
  },
  {
   "cell_type": "markdown",
   "id": "f17dc8f2",
   "metadata": {},
   "source": [
    "### Let's make one that will add a new attribute with an underscore "
   ]
  },
  {
   "cell_type": "code",
   "execution_count": 56,
   "id": "d2574af4",
   "metadata": {},
   "outputs": [
    {
     "name": "stdout",
     "output_type": "stream",
     "text": [
      "<class 'NoneType'>\n"
     ]
    },
    {
     "ename": "TypeError",
     "evalue": "'NoneType' object is not callable",
     "output_type": "error",
     "traceback": [
      "\u001b[0;31m---------------------------------------------------------------------------\u001b[0m",
      "\u001b[0;31mTypeError\u001b[0m                                 Traceback (most recent call last)",
      "Cell \u001b[0;32mIn[56], line 19\u001b[0m\n\u001b[1;32m     17\u001b[0m \u001b[38;5;28mprint\u001b[39m(\u001b[38;5;28mtype\u001b[39m(A))\n\u001b[1;32m     18\u001b[0m \u001b[38;5;66;03m# Note that nothing is printed until an instance is created.\u001b[39;00m\n\u001b[0;32m---> 19\u001b[0m a \u001b[38;5;241m=\u001b[39m A(\u001b[38;5;241m7\u001b[39m)\n",
      "\u001b[0;31mTypeError\u001b[0m: 'NoneType' object is not callable"
     ]
    }
   ],
   "source": [
    "def func_that_takes_in_args_to_modify_a_decorator_and_then_return_it(num_times_to_print):\n",
    "    def actual_decorator_that_takes_in_class_definition_and_fucks_with_it(cls):\n",
    "        old_class_init_method = cls.__init__\n",
    "        def new_init_method_that_messes_with_instance_attrs(self, *args, **kwargs): # this signature is becuase __init__ methods all have this signature\n",
    "            old_class_init_method(self, *args, **kwargs) # run old init, to get all old instance attrs set\n",
    "            # now lets inspect the instance attrs, which are available because __init__ is always passed `self` which is the instace!\n",
    "            for attribute_name_str, attribute_val in vars(self).items():\n",
    "                print(f'{attribute_name_str=}, {attribute_val*num_times_to_print}')\n",
    "        cls.__init__ = new_init_method_that_messes_with_instance_attrs\n",
    "    return actual_decorator_that_takes_in_class_definition_and_fucks_with_it\n",
    "\n",
    "@func_that_takes_in_args_to_modify_a_decorator_and_then_return_it(num_times_to_print=3)\n",
    "class A:\n",
    "    def __init__(self,a):\n",
    "        self.someattribute = a\n",
    "\n",
    "print(type(A)) # prints <class 'NoneType'>\n",
    "\n",
    "a = A(7) # Raises TypeError: 'NoneType' object is not callable"
   ]
  },
  {
   "cell_type": "code",
   "execution_count": 60,
   "id": "0fb461ed",
   "metadata": {},
   "outputs": [
    {
     "name": "stdout",
     "output_type": "stream",
     "text": [
      "<class 'type'>\n",
      "attribute_name_str='someattribute', &&&\n"
     ]
    }
   ],
   "source": [
    "# CORRECTED! Forgot to return the class from the decorator.\n",
    "def func_that_takes_in_args_to_modify_a_decorator_and_then_return_it(num_times_to_print):\n",
    "    def actual_decorator_that_takes_in_class_definition_and_fucks_with_it(cls):\n",
    "        old_class_init_method = cls.__init__\n",
    "        def new_init_method_that_messes_with_instance_attrs(self, *args, **kwargs): # this signature is becuase __init__ methods all have this signature\n",
    "            old_class_init_method(self, *args, **kwargs) # run old init, to get all old instance attrs set\n",
    "            # now lets inspect the instance attrs, which are available because __init__ is always passed `self` which is the instace!\n",
    "            for attribute_name_str, attribute_val in vars(self).items():\n",
    "                print(f'{attribute_name_str=}, {attribute_val*num_times_to_print}')\n",
    "        cls.__init__ = new_init_method_that_messes_with_instance_attrs\n",
    "        return cls\n",
    "    return actual_decorator_that_takes_in_class_definition_and_fucks_with_it\n",
    "\n",
    "@func_that_takes_in_args_to_modify_a_decorator_and_then_return_it(num_times_to_print=3)\n",
    "class A:\n",
    "    def __init__(self,a):\n",
    "        self.someattribute = a\n",
    "\n",
    "print(type(A)) # prints <class 'NoneType'>\n",
    "\n",
    "a = A('&') # Raises TypeError: 'NoneType' object is not callable"
   ]
  },
  {
   "cell_type": "markdown",
   "id": "18570eea",
   "metadata": {},
   "source": [
    "### Cool, cool.... now let's mess with it more. The end result doesn't need to parametrically edit the decorators, so let's just get rid of that shit anyway. Cool learning exercise though. It feels good to be back to only one nested function...\n"
   ]
  },
  {
   "cell_type": "code",
   "execution_count": 68,
   "id": "b9c54780",
   "metadata": {},
   "outputs": [
    {
     "name": "stdout",
     "output_type": "stream",
     "text": [
      "{'__module__': '__main__', '__init__': <function actual_decorator_that_takes_in_class_definition_and_fucks_with_it.<locals>.new_init_method_that_messes_with_instance_attrs at 0x11ec02700>, '__dict__': <attribute '__dict__' of 'A' objects>, '__weakref__': <attribute '__weakref__' of 'A' objects>, '__doc__': None} \n",
      "\n",
      "Duplicating someattribute to _someattribute\n",
      "Value of _someattribute is &\n"
     ]
    },
    {
     "ename": "RuntimeError",
     "evalue": "dictionary changed size during iteration",
     "output_type": "error",
     "traceback": [
      "\u001b[0;31m---------------------------------------------------------------------------\u001b[0m",
      "\u001b[0;31mRuntimeError\u001b[0m                              Traceback (most recent call last)",
      "Cell \u001b[0;32mIn[68], line 21\u001b[0m\n\u001b[1;32m     18\u001b[0m         \u001b[38;5;28mself\u001b[39m\u001b[38;5;241m.\u001b[39msomeattribute \u001b[38;5;241m=\u001b[39m a\n\u001b[1;32m     20\u001b[0m \u001b[38;5;28mprint\u001b[39m(\u001b[38;5;28mvars\u001b[39m(A),\u001b[38;5;124m'\u001b[39m\u001b[38;5;130;01m\\n\u001b[39;00m\u001b[38;5;124m'\u001b[39m)\n\u001b[0;32m---> 21\u001b[0m a \u001b[38;5;241m=\u001b[39m A(\u001b[38;5;124m'\u001b[39m\u001b[38;5;124m&\u001b[39m\u001b[38;5;124m'\u001b[39m)\n\u001b[1;32m     22\u001b[0m \u001b[38;5;28mprint\u001b[39m(\u001b[38;5;124m'\u001b[39m\u001b[38;5;130;01m\\n\u001b[39;00m\u001b[38;5;124m'\u001b[39m)\n\u001b[1;32m     23\u001b[0m \u001b[38;5;28mprint\u001b[39m(\u001b[38;5;28mvars\u001b[39m(a))\n",
      "Cell \u001b[0;32mIn[68], line 5\u001b[0m, in \u001b[0;36mactual_decorator_that_takes_in_class_definition_and_fucks_with_it.<locals>.new_init_method_that_messes_with_instance_attrs\u001b[0;34m(self, *args, **kwargs)\u001b[0m\n\u001b[1;32m      3\u001b[0m \u001b[38;5;28;01mdef\u001b[39;00m \u001b[38;5;21mnew_init_method_that_messes_with_instance_attrs\u001b[39m(\u001b[38;5;28mself\u001b[39m, \u001b[38;5;241m*\u001b[39margs, \u001b[38;5;241m*\u001b[39m\u001b[38;5;241m*\u001b[39mkwargs): \n\u001b[1;32m      4\u001b[0m     old_class_init_method(\u001b[38;5;28mself\u001b[39m, \u001b[38;5;241m*\u001b[39margs, \u001b[38;5;241m*\u001b[39m\u001b[38;5;241m*\u001b[39mkwargs) \u001b[38;5;66;03m# run old init, to get all old instance attrs set\u001b[39;00m\n\u001b[0;32m----> 5\u001b[0m     \u001b[38;5;28;01mfor\u001b[39;00m attribute_name_str, attribute_val \u001b[38;5;129;01min\u001b[39;00m \u001b[38;5;28mvars\u001b[39m(\u001b[38;5;28mself\u001b[39m)\u001b[38;5;241m.\u001b[39mitems():\n\u001b[1;32m      6\u001b[0m         \u001b[38;5;66;03m# add a new attribute that is the same name/val but with an underscore\u001b[39;00m\n\u001b[1;32m      7\u001b[0m         new_attr_name \u001b[38;5;241m=\u001b[39m \u001b[38;5;124mf\u001b[39m\u001b[38;5;124m'\u001b[39m\u001b[38;5;124m_\u001b[39m\u001b[38;5;132;01m{\u001b[39;00mattribute_name_str\u001b[38;5;132;01m}\u001b[39;00m\u001b[38;5;124m'\u001b[39m\n\u001b[1;32m      8\u001b[0m         \u001b[38;5;28mprint\u001b[39m(\u001b[38;5;124mf\u001b[39m\u001b[38;5;124m'\u001b[39m\u001b[38;5;124mDuplicating \u001b[39m\u001b[38;5;132;01m{\u001b[39;00mattribute_name_str\u001b[38;5;132;01m}\u001b[39;00m\u001b[38;5;124m to \u001b[39m\u001b[38;5;132;01m{\u001b[39;00mnew_attr_name\u001b[38;5;132;01m}\u001b[39;00m\u001b[38;5;124m'\u001b[39m)\n",
      "\u001b[0;31mRuntimeError\u001b[0m: dictionary changed size during iteration"
     ]
    }
   ],
   "source": [
    "def actual_decorator_that_takes_in_class_definition_and_fucks_with_it(cls):\n",
    "    old_class_init_method = cls.__init__\n",
    "    def new_init_method_that_messes_with_instance_attrs(self, *args, **kwargs): \n",
    "        old_class_init_method(self, *args, **kwargs) # run old init, to get all old instance attrs set\n",
    "        for attribute_name_str, attribute_val in vars(self).items():\n",
    "            # add a new attribute that is the same name/val but with an underscore\n",
    "            new_attr_name = f'_{attribute_name_str}'\n",
    "            print(f'Duplicating {attribute_name_str} to {new_attr_name}')\n",
    "            setattr(self, new_attr_name, attribute_val) #setattr(obj=self, name=new_attr_name, value=attribute_val) #no kwargs!\n",
    "            print(f'Value of {new_attr_name} is {getattr(self,new_attr_name)}')\n",
    "            \n",
    "    cls.__init__ = new_init_method_that_messes_with_instance_attrs\n",
    "    return cls\n",
    "\n",
    "@actual_decorator_that_takes_in_class_definition_and_fucks_with_it\n",
    "class A:\n",
    "    def __init__(self,a):\n",
    "        self.someattribute = a\n",
    "\n",
    "print(vars(A),'\\n')\n",
    "a = A('&')\n",
    "print('\\n')\n",
    "print(vars(a))\n",
    "print('\\n')"
   ]
  },
  {
   "cell_type": "markdown",
   "id": "766cae98",
   "metadata": {},
   "source": [
    "### Well, didn't know that was an error I could get. Guess I need to make a copy of it! Otherwise we're working directly with instance data. Need to create our own dict not tied to the same address\n"
   ]
  },
  {
   "cell_type": "code",
   "execution_count": 75,
   "id": "f4a553a0",
   "metadata": {},
   "outputs": [
    {
     "name": "stdout",
     "output_type": "stream",
     "text": [
      "{'__module__': '__main__', '__init__': <function actual_decorator_that_takes_in_class_definition_and_fucks_with_it.<locals>.new_init_method_that_messes_with_instance_attrs at 0x11f0520c0>, '__dict__': <attribute '__dict__' of 'A' objects>, '__weakref__': <attribute '__weakref__' of 'A' objects>, '__doc__': None} \n",
      "\n"
     ]
    },
    {
     "ename": "AttributeError",
     "evalue": "'dict_items' object has no attribute 'copy'",
     "output_type": "error",
     "traceback": [
      "\u001b[0;31m---------------------------------------------------------------------------\u001b[0m",
      "\u001b[0;31mAttributeError\u001b[0m                            Traceback (most recent call last)",
      "Cell \u001b[0;32mIn[75], line 22\u001b[0m\n\u001b[1;32m     19\u001b[0m         \u001b[38;5;28mself\u001b[39m\u001b[38;5;241m.\u001b[39msomeattribute \u001b[38;5;241m=\u001b[39m a\n\u001b[1;32m     21\u001b[0m \u001b[38;5;28mprint\u001b[39m(\u001b[38;5;28mvars\u001b[39m(A),\u001b[38;5;124m'\u001b[39m\u001b[38;5;130;01m\\n\u001b[39;00m\u001b[38;5;124m'\u001b[39m)\n\u001b[0;32m---> 22\u001b[0m a \u001b[38;5;241m=\u001b[39m A(\u001b[38;5;124m'\u001b[39m\u001b[38;5;124m&\u001b[39m\u001b[38;5;124m'\u001b[39m)\n\u001b[1;32m     23\u001b[0m \u001b[38;5;28mprint\u001b[39m(\u001b[38;5;124m'\u001b[39m\u001b[38;5;130;01m\\n\u001b[39;00m\u001b[38;5;124m'\u001b[39m)\n\u001b[1;32m     24\u001b[0m \u001b[38;5;28mprint\u001b[39m(\u001b[38;5;28mvars\u001b[39m(a))\n",
      "Cell \u001b[0;32mIn[75], line 5\u001b[0m, in \u001b[0;36mactual_decorator_that_takes_in_class_definition_and_fucks_with_it.<locals>.new_init_method_that_messes_with_instance_attrs\u001b[0;34m(self, *args, **kwargs)\u001b[0m\n\u001b[1;32m      3\u001b[0m \u001b[38;5;28;01mdef\u001b[39;00m \u001b[38;5;21mnew_init_method_that_messes_with_instance_attrs\u001b[39m(\u001b[38;5;28mself\u001b[39m, \u001b[38;5;241m*\u001b[39margs, \u001b[38;5;241m*\u001b[39m\u001b[38;5;241m*\u001b[39mkwargs): \n\u001b[1;32m      4\u001b[0m     old_class_init_method(\u001b[38;5;28mself\u001b[39m, \u001b[38;5;241m*\u001b[39margs, \u001b[38;5;241m*\u001b[39m\u001b[38;5;241m*\u001b[39mkwargs)\n\u001b[0;32m----> 5\u001b[0m     old_instance_attrs_dict \u001b[38;5;241m=\u001b[39m \u001b[38;5;28mvars\u001b[39m(\u001b[38;5;28mself\u001b[39m)\u001b[38;5;241m.\u001b[39mitems()\u001b[38;5;241m.\u001b[39mcopy()\n\u001b[1;32m      6\u001b[0m     \u001b[38;5;28mprint\u001b[39m(\u001b[38;5;124mf\u001b[39m\u001b[38;5;124m'\u001b[39m\u001b[38;5;124mAddress of old/new vars(instance) dict: \u001b[39m\u001b[38;5;132;01m{\u001b[39;00m\u001b[38;5;28mid\u001b[39m(\u001b[38;5;28mvars\u001b[39m(\u001b[38;5;28mself\u001b[39m)\u001b[38;5;241m.\u001b[39mitems())\u001b[38;5;132;01m}\u001b[39;00m\u001b[38;5;124m, \u001b[39m\u001b[38;5;132;01m{\u001b[39;00m\u001b[38;5;28mid\u001b[39m(old_instance_attrs_dict)\u001b[38;5;132;01m}\u001b[39;00m\u001b[38;5;124m \u001b[39m\u001b[38;5;124m'\u001b[39m)\n\u001b[1;32m      7\u001b[0m     \u001b[38;5;28;01mfor\u001b[39;00m attribute_name_str, attribute_val \u001b[38;5;129;01min\u001b[39;00m old_instance_attrs_dict:\n",
      "\u001b[0;31mAttributeError\u001b[0m: 'dict_items' object has no attribute 'copy'"
     ]
    }
   ],
   "source": [
    "def actual_decorator_that_takes_in_class_definition_and_fucks_with_it(cls):\n",
    "    old_class_init_method = cls.__init__\n",
    "    def new_init_method_that_messes_with_instance_attrs(self, *args, **kwargs): \n",
    "        old_class_init_method(self, *args, **kwargs)\n",
    "        old_instance_attrs_dict = vars(self).items().copy()\n",
    "        for attribute_name_str, attribute_val in old_instance_attrs_dict:\n",
    "            new_attr_name = f'_{attribute_name_str}'\n",
    "            print(f'Duplicating {attribute_name_str} to {new_attr_name}')\n",
    "            setattr(self, new_attr_name, attribute_val)\n",
    "            print(f'Value of {new_attr_name} is {getattr(self,new_attr_name)}')\n",
    "            \n",
    "    cls.__init__ = new_init_method_that_messes_with_instance_attrs\n",
    "    return cls\n",
    "\n",
    "@actual_decorator_that_takes_in_class_definition_and_fucks_with_it\n",
    "class A:\n",
    "    def __init__(self,a):\n",
    "        self.someattribute = a\n",
    "\n",
    "print(vars(A),'\\n')\n",
    "a = A('&')\n",
    "print('\\n')\n",
    "print(vars(a))\n",
    "print('\\n')"
   ]
  },
  {
   "cell_type": "code",
   "execution_count": 89,
   "id": "46c82509",
   "metadata": {},
   "outputs": [],
   "source": [
    "### But first some shenanigans with using dataclass"
   ]
  },
  {
   "cell_type": "code",
   "execution_count": 90,
   "id": "49dcabe3",
   "metadata": {},
   "outputs": [
    {
     "name": "stdout",
     "output_type": "stream",
     "text": [
      "attribute_name\n",
      "vars(v)={}\n",
      "vars(V)=mappingproxy({'__module__': '__main__', 'a': 'attribute_name', '__dict__': <attribute '__dict__' of 'V' objects>, '__weakref__': <attribute '__weakref__' of 'V' objects>, '__doc__': 'V()', '__dataclass_params__': _DataclassParams(init=True,repr=True,eq=True,order=False,unsafe_hash=False,frozen=False), '__dataclass_fields__': {}, '__init__': <function V.__init__ at 0x11f14da80>, '__repr__': <function V.__repr__ at 0x11f14d580>, '__eq__': <function V.__eq__ at 0x11f14c900>, '__hash__': None, '__match_args__': ()})\n"
     ]
    }
   ],
   "source": [
    "from dataclasses import dataclass\n",
    "\n",
    "@dataclass\n",
    "class V:\n",
    "    a = 'attribute_name' # this makes it defined as a class attribute not an instance attribute \n",
    "    # fucking dataclasses this is retarded. I obviously want this to be an instance attribute with a default value\n",
    "\n",
    "v = V()\n",
    "print(v.a) # prints \"attribute_name\"... but it's a class attr not instance\n",
    "print(f'{vars(v)=}')# is blank!!! We're calling vars (which prints the __dict__ of an obj) of an instance, not of the class \n",
    "print(f'{vars(V)=}')# shows a = attribute_name... smh\n"
   ]
  },
  {
   "cell_type": "markdown",
   "id": "32d2d84e",
   "metadata": {},
   "source": [
    "### To use dataclasses to define instance attrs, don't give a default value!"
   ]
  },
  {
   "cell_type": "code",
   "execution_count": 92,
   "id": "eef65f49",
   "metadata": {},
   "outputs": [
    {
     "ename": "TypeError",
     "evalue": "V.__init__() missing 1 required positional argument: 'a'",
     "output_type": "error",
     "traceback": [
      "\u001b[0;31m---------------------------------------------------------------------------\u001b[0m",
      "\u001b[0;31mTypeError\u001b[0m                                 Traceback (most recent call last)",
      "Cell \u001b[0;32mIn[92], line 8\u001b[0m\n\u001b[1;32m      5\u001b[0m     a:\u001b[38;5;28mint\u001b[39m \u001b[38;5;66;03m# this makes it defined as a class attribute not an instance attribute \u001b[39;00m\n\u001b[1;32m      6\u001b[0m     \u001b[38;5;66;03m# fucking dataclasses this is retarded. I obviously want this to be an instance attribute with a default value\u001b[39;00m\n\u001b[0;32m----> 8\u001b[0m v \u001b[38;5;241m=\u001b[39m V()\n\u001b[1;32m      9\u001b[0m \u001b[38;5;66;03m# print(v.)\u001b[39;00m\n\u001b[1;32m     10\u001b[0m \u001b[38;5;28mprint\u001b[39m(v\u001b[38;5;241m.\u001b[39ma) \u001b[38;5;66;03m# prints \"attribute_name\"... but it's a class attr not instance\u001b[39;00m\n",
      "\u001b[0;31mTypeError\u001b[0m: V.__init__() missing 1 required positional argument: 'a'"
     ]
    }
   ],
   "source": [
    "from dataclasses import dataclass\n",
    "\n",
    "@dataclass\n",
    "class V:\n",
    "    a:int # this makes it defined as an instance attribute, but then you have to pass a default value to the constructor for it\n",
    "    # fucking dataclasses this is retarded\n",
    "\n",
    "v = V()# fails because need to pass `a` now \n",
    "print(v.a) \n",
    "print(f'{vars(v)=}')\n",
    "print(f'{vars(V)=}')\n"
   ]
  },
  {
   "cell_type": "code",
   "execution_count": 93,
   "id": "6c559ae8",
   "metadata": {},
   "outputs": [
    {
     "name": "stdout",
     "output_type": "stream",
     "text": [
      "3\n",
      "vars(v)={'a': 3}\n",
      "vars(V)=mappingproxy({'__module__': '__main__', '__annotations__': {'a': <class 'int'>}, 'a': 3, '__dict__': <attribute '__dict__' of 'V' objects>, '__weakref__': <attribute '__weakref__' of 'V' objects>, '__doc__': 'V(a: int = 3)', '__dataclass_params__': _DataclassParams(init=True,repr=True,eq=True,order=False,unsafe_hash=False,frozen=False), '__dataclass_fields__': {'a': Field(name='a',type=<class 'int'>,default=3,default_factory=<dataclasses._MISSING_TYPE object at 0x105675e90>,init=True,repr=True,hash=None,compare=True,metadata=mappingproxy({}),kw_only=False,_field_type=_FIELD)}, '__init__': <function V.__init__ at 0x11ec92980>, '__repr__': <function V.__repr__ at 0x11ec91580>, '__eq__': <function V.__eq__ at 0x11ec902c0>, '__hash__': None, '__match_args__': ('a',)})\n"
     ]
    }
   ],
   "source": [
    "from dataclasses import dataclass\n",
    "\n",
    "@dataclass\n",
    "class V:\n",
    "    a:int = 3 # this makes it defined as an instance attribute, but then you have to pass a default value to the constructor for it\n",
    "    # fucking dataclasses this is retarded\n",
    "\n",
    "v = V()# fails because need to pass `a` now \n",
    "print(v.a) \n",
    "print(f'{vars(v)=}')\n",
    "print(f'{vars(V)=}')\n"
   ]
  },
  {
   "cell_type": "markdown",
   "id": "1f665ecc",
   "metadata": {},
   "source": [
    "# When using dataclass, Type hints imply instance attribute, lack of type hints implies class attribute"
   ]
  },
  {
   "cell_type": "code",
   "execution_count": null,
   "id": "9627e005",
   "metadata": {},
   "outputs": [],
   "source": []
  },
  {
   "cell_type": "code",
   "execution_count": null,
   "id": "a73de072",
   "metadata": {},
   "outputs": [],
   "source": [
    "# Back to the task at hand..."
   ]
  },
  {
   "cell_type": "code",
   "execution_count": 99,
   "id": "b84667fc",
   "metadata": {},
   "outputs": [
    {
     "name": "stdout",
     "output_type": "stream",
     "text": [
      "{'__module__': '__main__', '__init__': <function actual_decorator_that_takes_in_class_definition_and_fucks_with_it.<locals>.new_init_method_that_messes_with_instance_attrs at 0x11ec02160>, '__dict__': <attribute '__dict__' of 'A' objects>, '__weakref__': <attribute '__weakref__' of 'A' objects>, '__doc__': None} \n",
      "\n",
      "Duplicating someattribute to _someattribute\n",
      "Value of _someattribute is &\n",
      "\n",
      "\n",
      "{'someattribute': '&', '_someattribute': '&'}\n",
      "\n",
      "\n"
     ]
    }
   ],
   "source": [
    "def actual_decorator_that_takes_in_class_definition_and_fucks_with_it(cls):\n",
    "    old_class_init_method = cls.__init__\n",
    "    def new_init_method_that_messes_with_instance_attrs(self, *args, **kwargs): \n",
    "        old_class_init_method(self, *args, **kwargs)\n",
    "        old_instance_attrs_dict = {k:v for (k,v) in vars(self).items()}\n",
    "        for attribute_name_str, attribute_val in old_instance_attrs_dict.items():\n",
    "            new_attr_name = f'_{attribute_name_str}'\n",
    "            print(f'Duplicating {attribute_name_str} to {new_attr_name}')\n",
    "            setattr(self, new_attr_name, attribute_val)\n",
    "            print(f'Value of {new_attr_name} is {getattr(self,new_attr_name)}')\n",
    "            \n",
    "    cls.__init__ = new_init_method_that_messes_with_instance_attrs\n",
    "    return cls\n",
    "\n",
    "@actual_decorator_that_takes_in_class_definition_and_fucks_with_it\n",
    "class A:\n",
    "    def __init__(self,a):\n",
    "        self.someattribute = a\n",
    "\n",
    "print(vars(A),'\\n')\n",
    "# prints lots of dunders and stuff\n",
    "a = A('&')\n",
    "# creating this instance will print \"Duplicating ...\" and \"valoe of ... is ...\"\n",
    "print('\\n')\n",
    "print(vars(a))\n",
    "print('\\n')"
   ]
  },
  {
   "cell_type": "code",
   "execution_count": null,
   "id": "8f602ead",
   "metadata": {},
   "outputs": [],
   "source": []
  }
 ],
 "metadata": {
  "kernelspec": {
   "display_name": "Python 3 (ipykernel)",
   "language": "python",
   "name": "python3"
  },
  "language_info": {
   "codemirror_mode": {
    "name": "ipython",
    "version": 3
   },
   "file_extension": ".py",
   "mimetype": "text/x-python",
   "name": "python",
   "nbconvert_exporter": "python",
   "pygments_lexer": "ipython3",
   "version": "3.11.4"
  }
 },
 "nbformat": 4,
 "nbformat_minor": 5
}
