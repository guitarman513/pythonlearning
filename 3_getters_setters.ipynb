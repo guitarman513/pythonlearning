{
 "cells": [
  {
   "cell_type": "markdown",
   "id": "722d367e",
   "metadata": {},
   "source": [
    "### According to ChatGPT4, properties are python mechanisms called \"descriptors\" and they are to be defined at the class level NOT the instance level.\n",
    "### So when we edit the class to create attrs, delete attrs, add setters/getters, we need to be smart. "
   ]
  },
  {
   "cell_type": "markdown",
   "id": "884e8069",
   "metadata": {},
   "source": [
    "### Here is what we want to do:\n",
    "# CLASS-LEVEL:\n",
    "* Add `property`s for each getter-setter we want. This SHOULD NOT Clobber the existing instance attribute definitions, as long as the instance attributes are defined as self.attribute (or if using dataclasses, they should be type-hinted to imply that they are indeed instance attributes)\n",
    "\n",
    "# INSTANCE-LEVEL:\n",
    "* Delete existing attributes so when we access them, we're actually routed to the CLASS's `property`s with the same name\n",
    "* Add new \"storage\" INSTANCE variables with the same name as the old ones but with an underscore like `_some_attr`"
   ]
  },
  {
   "cell_type": "markdown",
   "id": "97d57131",
   "metadata": {},
   "source": [
    "## OBSERVATIONS\n",
    "* We have a problem. Decorators can't edit a class definition to include `property`s with the names of instance attributes until an instance is actually created, becuase when it is passed the class object, there is no way to inspect the `__intit__` method to see the attributes defined in its code. We have to wait until an instance is created and then use the `self` parameter to inspect instance attribute data.\n",
    "* So, it seems like the only way to addresss this is to constantly overwrite the `property` attributes of the class with every new instance that is created. These `property` attributes will not give the class any new information, it will just be overwriting them each time..."
   ]
  },
  {
   "cell_type": "markdown",
   "id": "84b5e706",
   "metadata": {},
   "source": [
    "# A hacky way to also do it, without re-defining the class every time an instance is created"
   ]
  },
  {
   "cell_type": "markdown",
   "id": "00920853",
   "metadata": {},
   "source": [
    "* Inspect the source code of the `__init__` method, and use regex to find attribute names. Then we can add the properties to the class without looking at a created instance... "
   ]
  },
  {
   "cell_type": "markdown",
   "id": "31d382f0",
   "metadata": {},
   "source": [
    "# USING THE FIRST METHOD (re-defining the cls attributes each time an instance is created)\n"
   ]
  },
  {
   "cell_type": "code",
   "execution_count": 3,
   "id": "6d5029c5",
   "metadata": {},
   "outputs": [
    {
     "name": "stdout",
     "output_type": "stream",
     "text": [
      "{'attr1': 'attr1', 'attr2': 2}\n"
     ]
    }
   ],
   "source": [
    "from dataclasses import dataclass\n",
    "\n",
    "@dataclass\n",
    "class A:\n",
    "    attr1:str = \"attr1\"\n",
    "    attr2:int = 2\n",
    "\n",
    "a1 = A()\n",
    "print(vars(a1))"
   ]
  },
  {
   "cell_type": "code",
   "execution_count": 16,
   "id": "1f6d7136",
   "metadata": {},
   "outputs": [
    {
     "name": "stdout",
     "output_type": "stream",
     "text": [
      "----------Exiting Decorator----------\n",
      "----------Done with class definition----------\n",
      "----------In Init----------\n",
      "old_instance_attrs_dict={'attr1': 'attr1', 'attr2': 2}\n",
      "vars(self).items()=dict_items([('_attr1', 'attr1'), ('_attr2', 2)])\n",
      "----------created a1----------\n",
      "----------In Init----------\n",
      "old_instance_attrs_dict={'_attr2': 2}\n",
      "vars(self).items()=dict_items([('__attr2', 2)])\n",
      "----------created a2----------\n",
      "vars(a1)={'_attr1': 'attr1', '_attr2': 2}      vars(a2)={'__attr2': 2}\n",
      "vars(a1)={'_attr1': 'attr1', '_attr2': 2, '__attr2': 'edited a1!'}      vars(a2)={'__attr2': 'edited a2!'}\n"
     ]
    }
   ],
   "source": [
    "def a_decorator(cls):\n",
    "    old_init = cls.__init__\n",
    "    \n",
    "    def new_init(self,*args,**kwargs):    # since cls is returned, this will just override cls.__init__ \n",
    "        print(\"----------In Init----------\")\n",
    "        property_descriptors_to_add_to_cls = dict()\n",
    "        old_init(self,*args,**kwargs) # run old __init__ first\n",
    "        # Now that we have some instance data, let's get it!\n",
    "        old_instance_attrs_dict = {k:v for (k,v) in vars(self).items()}\n",
    "        print(f\"{old_instance_attrs_dict=}\")\n",
    "        for attrname, attrval in old_instance_attrs_dict.items():\n",
    "            storage_name = f'_{attrname}'                            #\n",
    "            setattr(self, storage_name, attrval)                     # The storage name is a true attribute, not a special property descriptor.\n",
    "            # create the property so that we can add it to the cls\n",
    "            property_descriptors_to_add_to_cls[attrname] = property(\n",
    "                    lambda self: getattr(self, storage_name),         # fget a.k.a the getter\n",
    "                    lambda self,val: setattr(self, storage_name,val), # fset a.k.a the setter\n",
    "            )\n",
    "            # delete the old attr becuase it has the same name as the property descriptor\n",
    "            delattr(self,attrname)\n",
    "        for attrname, property_defn in property_descriptors_to_add_to_cls.items():\n",
    "            setattr(cls,attrname,property_defn)\n",
    "        print(f\"{vars(self).items()=}\")\n",
    "    cls.__init__ = new_init\n",
    "    print(\"----------Exiting Decorator----------\")\n",
    "    return cls\n",
    "\n",
    "@a_decorator\n",
    "@dataclass\n",
    "class A:\n",
    "    attr1:str = \"attr1\"\n",
    "    attr2:int = 2\n",
    "        \n",
    "print(\"----------Done with class definition----------\")\n",
    "\n",
    "a1 = A()\n",
    "print(\"----------created a1----------\")\n",
    "a2 = A()\n",
    "print(\"----------created a2----------\")\n",
    "print(f\"{vars(a1)=}\", \" \"*4, f\"{vars(a2)=}\") # will be the same\n",
    "a1.attr1 = \"edited a1!\"\n",
    "a2.attr2 = \"edited a2!\"\n",
    "print(f\"{vars(a1)=}\", \" \"*4, f\"{vars(a2)=}\") # seems like it works as expected!\n"
   ]
  },
  {
   "cell_type": "markdown",
   "id": "b6b922c7",
   "metadata": {},
   "source": [
    "### Lambda's are getting scope for storage_name from outside of their definition. So storage_name is whatever the last iteration of the loop was and things are getting fucked up"
   ]
  },
  {
   "cell_type": "code",
   "execution_count": 18,
   "id": "8f663501",
   "metadata": {},
   "outputs": [
    {
     "name": "stdout",
     "output_type": "stream",
     "text": [
      "----------Exiting Decorator----------\n",
      "----------Done with class definition----------\n",
      "----------In Init----------\n",
      "old_instance_attrs_dict={'attr1': 'attr1', 'attr2': 2}\n",
      "vars(self).items()=dict_items([('_attr1', 'attr1'), ('_attr2', 2)])\n",
      "----------created a1----------\n",
      "----------In Init----------\n",
      "old_instance_attrs_dict={'_attr1': 'attr1', '_attr2': 2}\n",
      "vars(self).items()=dict_items([('__attr1', 'attr1'), ('__attr2', 2)])\n",
      "----------created a2----------\n",
      "vars(a1)={'_attr1': 'attr1', '_attr2': 2}      vars(a2)={'__attr1': 'attr1', '__attr2': 2}\n",
      "vars(a1)={'_attr1': 'attr1', '_attr2': 2, '__attr1': 'edited a1!'}      vars(a2)={'__attr1': 'attr1', '__attr2': 'edited a2!'}\n"
     ]
    }
   ],
   "source": [
    "def a_decorator(cls):\n",
    "    old_init = cls.__init__\n",
    "    \n",
    "    def create_property(instance, storage_name):\n",
    "        return property(\n",
    "                    lambda instance: getattr(instance, storage_name),         # fget a.k.a the getter\n",
    "                    lambda instance,val: setattr(instance, storage_name,val), # fset a.k.a the setter\n",
    "        )\n",
    "    \n",
    "    def new_init(self,*args,**kwargs):    # since cls is returned, this will just override cls.__init__ \n",
    "        print(\"----------In Init----------\")\n",
    "        property_descriptors_to_add_to_cls = dict()\n",
    "        old_init(self,*args,**kwargs) # run old __init__ first\n",
    "        # Now that we have some instance data, let's get it!\n",
    "        old_instance_attrs_dict = {k:v for (k,v) in vars(self).items()}\n",
    "        print(f\"{old_instance_attrs_dict=}\")\n",
    "        for attrname, attrval in old_instance_attrs_dict.items():\n",
    "            storage_name = f'_{attrname}'                            #\n",
    "            setattr(self, storage_name, attrval)                     # The storage name is a true attribute, not a special property descriptor.\n",
    "            # create the property so that we can add it to the cls\n",
    "            property_descriptors_to_add_to_cls[attrname] = create_property(self,storage_name)\n",
    "            # delete the old attr becuase it has the same name as the property descriptor\n",
    "            delattr(self,attrname)\n",
    "        for attrname, property_defn in property_descriptors_to_add_to_cls.items():\n",
    "            setattr(cls,attrname,property_defn)\n",
    "        print(f\"{vars(self).items()=}\")\n",
    "    cls.__init__ = new_init\n",
    "    print(\"----------Exiting Decorator----------\")\n",
    "    return cls\n",
    "\n",
    "@a_decorator\n",
    "@dataclass\n",
    "class A:\n",
    "    attr1:str = \"attr1\"\n",
    "    attr2:int = 2\n",
    "        \n",
    "print(\"----------Done with class definition----------\")\n",
    "\n",
    "a1 = A()\n",
    "print(\"----------created a1----------\")\n",
    "a2 = A()\n",
    "print(\"----------created a2----------\")\n",
    "print(f\"{vars(a1)=}\", \" \"*4, f\"{vars(a2)=}\") # will be the same\n",
    "a1.attr1 = \"edited a1!\"\n",
    "a2.attr2 = \"edited a2!\"\n",
    "print(f\"{vars(a1)=}\", \" \"*4, f\"{vars(a2)=}\") # seems like it works as expected!\n"
   ]
  },
  {
   "cell_type": "code",
   "execution_count": 19,
   "id": "5217ba98",
   "metadata": {},
   "outputs": [],
   "source": [
    "# Ok now underscores are being added an instances are still sharing data... No good"
   ]
  },
  {
   "cell_type": "code",
   "execution_count": 27,
   "id": "f9c58dc0",
   "metadata": {},
   "outputs": [
    {
     "name": "stdout",
     "output_type": "stream",
     "text": [
      "----------Exiting Decorator----------\n",
      "----------Done with class definition----------\n",
      "----------In Init----------\n",
      "old_instance_attrs_dict={'attr1': 'attr1', 'attr2': 2}\n",
      "vars(self).items()=dict_items([('_attr1', 'attr1'), ('_attr2', 2)])\n",
      "----------created a1----------\n",
      "vars(a1)={'_attr1': 'edited a1!', '_attr2': 2}\n",
      "----------In Init----------\n",
      "old_instance_attrs_dict={'_attr1': 'attr1', '_attr2': 2}\n",
      "vars(self).items()=dict_items([])\n",
      "----------created a2----------\n",
      "vars(a1)={'_attr1': 'edited a1!', '_attr2': 2}      vars(a2)={}\n"
     ]
    },
    {
     "ename": "RecursionError",
     "evalue": "maximum recursion depth exceeded",
     "output_type": "error",
     "traceback": [
      "\u001b[0;31m---------------------------------------------------------------------------\u001b[0m",
      "\u001b[0;31mRecursionError\u001b[0m                            Traceback (most recent call last)",
      "Cell \u001b[0;32mIn[27], line 46\u001b[0m\n\u001b[1;32m     44\u001b[0m \u001b[38;5;28mprint\u001b[39m(\u001b[38;5;124m\"\u001b[39m\u001b[38;5;124m----------created a2----------\u001b[39m\u001b[38;5;124m\"\u001b[39m)\n\u001b[1;32m     45\u001b[0m \u001b[38;5;28mprint\u001b[39m(\u001b[38;5;124mf\u001b[39m\u001b[38;5;124m\"\u001b[39m\u001b[38;5;132;01m{\u001b[39;00m\u001b[38;5;28mvars\u001b[39m(a1)\u001b[38;5;132;01m=}\u001b[39;00m\u001b[38;5;124m\"\u001b[39m, \u001b[38;5;124m\"\u001b[39m\u001b[38;5;124m \u001b[39m\u001b[38;5;124m\"\u001b[39m\u001b[38;5;241m*\u001b[39m\u001b[38;5;241m4\u001b[39m, \u001b[38;5;124mf\u001b[39m\u001b[38;5;124m\"\u001b[39m\u001b[38;5;132;01m{\u001b[39;00m\u001b[38;5;28mvars\u001b[39m(a2)\u001b[38;5;132;01m=}\u001b[39;00m\u001b[38;5;124m\"\u001b[39m) \u001b[38;5;66;03m# will be the same\u001b[39;00m\n\u001b[0;32m---> 46\u001b[0m a2\u001b[38;5;241m.\u001b[39mattr2 \u001b[38;5;241m=\u001b[39m \u001b[38;5;124m\"\u001b[39m\u001b[38;5;124medited a2!\u001b[39m\u001b[38;5;124m\"\u001b[39m\n\u001b[1;32m     47\u001b[0m \u001b[38;5;28mprint\u001b[39m(\u001b[38;5;124mf\u001b[39m\u001b[38;5;124m\"\u001b[39m\u001b[38;5;132;01m{\u001b[39;00m\u001b[38;5;28mvars\u001b[39m(a1)\u001b[38;5;132;01m=}\u001b[39;00m\u001b[38;5;124m\"\u001b[39m, \u001b[38;5;124m\"\u001b[39m\u001b[38;5;124m \u001b[39m\u001b[38;5;124m\"\u001b[39m\u001b[38;5;241m*\u001b[39m\u001b[38;5;241m4\u001b[39m, \u001b[38;5;124mf\u001b[39m\u001b[38;5;124m\"\u001b[39m\u001b[38;5;132;01m{\u001b[39;00m\u001b[38;5;28mvars\u001b[39m(a2)\u001b[38;5;132;01m=}\u001b[39;00m\u001b[38;5;124m\"\u001b[39m)\n",
      "Cell \u001b[0;32mIn[27], line 6\u001b[0m, in \u001b[0;36ma_decorator.<locals>.create_property.<locals>.s\u001b[0;34m(instance, value)\u001b[0m\n\u001b[0;32m----> 6\u001b[0m \u001b[38;5;28;01mdef\u001b[39;00m \u001b[38;5;21ms\u001b[39m(instance,value): \u001b[38;5;28;01mreturn\u001b[39;00m \u001b[38;5;28msetattr\u001b[39m(instance,storage_name,value)\n",
      "Cell \u001b[0;32mIn[27], line 6\u001b[0m, in \u001b[0;36ma_decorator.<locals>.create_property.<locals>.s\u001b[0;34m(instance, value)\u001b[0m\n\u001b[0;32m----> 6\u001b[0m \u001b[38;5;28;01mdef\u001b[39;00m \u001b[38;5;21ms\u001b[39m(instance,value): \u001b[38;5;28;01mreturn\u001b[39;00m \u001b[38;5;28msetattr\u001b[39m(instance,storage_name,value)\n",
      "    \u001b[0;31m[... skipping similar frames: a_decorator.<locals>.create_property.<locals>.s at line 6 (2967 times)]\u001b[0m\n",
      "Cell \u001b[0;32mIn[27], line 6\u001b[0m, in \u001b[0;36ma_decorator.<locals>.create_property.<locals>.s\u001b[0;34m(instance, value)\u001b[0m\n\u001b[0;32m----> 6\u001b[0m \u001b[38;5;28;01mdef\u001b[39;00m \u001b[38;5;21ms\u001b[39m(instance,value): \u001b[38;5;28;01mreturn\u001b[39;00m \u001b[38;5;28msetattr\u001b[39m(instance,storage_name,value)\n",
      "\u001b[0;31mRecursionError\u001b[0m: maximum recursion depth exceeded"
     ]
    }
   ],
   "source": [
    "def a_decorator(cls):\n",
    "    old_init = cls.__init__\n",
    "    \n",
    "    def create_property(storage_name):\n",
    "        def g(instance): return getattr(instance,storage_name)\n",
    "        def s(instance,value): return setattr(instance,storage_name,value)\n",
    "        return property(g,s)\n",
    "    \n",
    "    def new_init(self,*args,**kwargs):    # since cls is returned, this will just override cls.__init__ \n",
    "        print(\"----------In Init----------\")\n",
    "        property_descriptors_to_add_to_cls = dict()\n",
    "        old_init(self,*args,**kwargs) # run old __init__ first\n",
    "        # Now that we have some instance data, let's get it!\n",
    "        old_instance_attrs_dict = {k:v for (k,v) in vars(self).items()}\n",
    "        print(f\"{old_instance_attrs_dict=}\")\n",
    "        for attrname, attrval in old_instance_attrs_dict.items():\n",
    "            storage_name = attrname if attrname.startswith('_') else f'_{attrname}'                            #\n",
    "            setattr(self, storage_name, attrval)                     # The storage name is a true attribute, not a special property descriptor.\n",
    "            # create the property so that we can add it to the cls\n",
    "            property_descriptors_to_add_to_cls[attrname] = create_property(storage_name)\n",
    "            # delete the old attr becuase it has the same name as the property descriptor\n",
    "            delattr(self,attrname)\n",
    "        for attrname, property_defn in property_descriptors_to_add_to_cls.items():\n",
    "            setattr(cls,attrname,property_defn)\n",
    "        print(f\"{vars(self).items()=}\")\n",
    "    cls.__init__ = new_init\n",
    "    print(\"----------Exiting Decorator----------\")\n",
    "    return cls\n",
    "\n",
    "@a_decorator\n",
    "@dataclass\n",
    "class A:\n",
    "    attr1:str = \"attr1\"\n",
    "    attr2:int = 2\n",
    "        \n",
    "print(\"----------Done with class definition----------\")\n",
    "\n",
    "a1 = A()\n",
    "print(\"----------created a1----------\")\n",
    "a1.attr1 = \"edited a1!\"\n",
    "print(f\"{vars(a1)=}\")\n",
    "\n",
    "a2 = A()\n",
    "print(\"----------created a2----------\")\n",
    "print(f\"{vars(a1)=}\", \" \"*4, f\"{vars(a2)=}\") # will be the same\n",
    "a2.attr2 = \"edited a2!\"\n",
    "print(f\"{vars(a1)=}\", \" \"*4, f\"{vars(a2)=}\") # seems like it works as expected!\n"
   ]
  },
  {
   "cell_type": "code",
   "execution_count": 49,
   "id": "2a0e0324",
   "metadata": {},
   "outputs": [
    {
     "name": "stdout",
     "output_type": "stream",
     "text": [
      "----------Exiting Decorator----------\n",
      "----------Done with class definition----------\n",
      "----------In Init----------\n",
      "self.__PROPERTIES_ADDED=False\n",
      "vars(self).items()=dict_items([('attr1', 'attr1'), ('attr2', 2)])\n",
      "og_instance_attrs_dict={'attr1': 'attr1', 'attr2': 2}\n",
      "vars(self).items()=dict_items([])\n",
      "----------created a1----------\n",
      "vars(a1)={'attr1': 'edited a1!'}\n",
      "----------In Init----------\n",
      "self.__PROPERTIES_ADDED=True\n",
      "vars(self).items()=dict_items([('attr1', 'attr1'), ('attr2', 2)])\n"
     ]
    },
    {
     "ename": "AttributeError",
     "evalue": "property of 'A' object has no deleter",
     "output_type": "error",
     "traceback": [
      "\u001b[0;31m---------------------------------------------------------------------------\u001b[0m",
      "\u001b[0;31mAttributeError\u001b[0m                            Traceback (most recent call last)",
      "Cell \u001b[0;32mIn[49], line 65\u001b[0m\n\u001b[1;32m     62\u001b[0m a1\u001b[38;5;241m.\u001b[39mattr1 \u001b[38;5;241m=\u001b[39m \u001b[38;5;124m\"\u001b[39m\u001b[38;5;124medited a1!\u001b[39m\u001b[38;5;124m\"\u001b[39m\n\u001b[1;32m     63\u001b[0m \u001b[38;5;28mprint\u001b[39m(\u001b[38;5;124mf\u001b[39m\u001b[38;5;124m\"\u001b[39m\u001b[38;5;132;01m{\u001b[39;00m\u001b[38;5;28mvars\u001b[39m(a1)\u001b[38;5;132;01m=}\u001b[39;00m\u001b[38;5;124m\"\u001b[39m)\n\u001b[0;32m---> 65\u001b[0m a2 \u001b[38;5;241m=\u001b[39m A()\n\u001b[1;32m     66\u001b[0m \u001b[38;5;28mprint\u001b[39m(\u001b[38;5;124m\"\u001b[39m\u001b[38;5;124m----------created a2----------\u001b[39m\u001b[38;5;124m\"\u001b[39m)\n\u001b[1;32m     67\u001b[0m \u001b[38;5;28mprint\u001b[39m(\u001b[38;5;124mf\u001b[39m\u001b[38;5;124m\"\u001b[39m\u001b[38;5;132;01m{\u001b[39;00m\u001b[38;5;28mvars\u001b[39m(a1)\u001b[38;5;132;01m=}\u001b[39;00m\u001b[38;5;124m\"\u001b[39m, \u001b[38;5;124m\"\u001b[39m\u001b[38;5;124m \u001b[39m\u001b[38;5;124m\"\u001b[39m\u001b[38;5;241m*\u001b[39m\u001b[38;5;241m4\u001b[39m, \u001b[38;5;124mf\u001b[39m\u001b[38;5;124m\"\u001b[39m\u001b[38;5;132;01m{\u001b[39;00m\u001b[38;5;28mvars\u001b[39m(a2)\u001b[38;5;132;01m=}\u001b[39;00m\u001b[38;5;124m\"\u001b[39m) \u001b[38;5;66;03m# will be the same\u001b[39;00m\n",
      "Cell \u001b[0;32mIn[49], line 42\u001b[0m, in \u001b[0;36ma_decorator.<locals>.new_init\u001b[0;34m(self, *args, **kwargs)\u001b[0m\n\u001b[1;32m     40\u001b[0m         storage_name \u001b[38;5;241m=\u001b[39m attrname                           \u001b[38;5;66;03m#\u001b[39;00m\n\u001b[1;32m     41\u001b[0m         \u001b[38;5;28msetattr\u001b[39m(\u001b[38;5;28mself\u001b[39m, storage_name, attrval)  \u001b[38;5;66;03m# The storage name is a true attribute, not a special property descriptor.\u001b[39;00m\n\u001b[0;32m---> 42\u001b[0m         \u001b[38;5;28mdelattr\u001b[39m(\u001b[38;5;28mself\u001b[39m,attrname)\n\u001b[1;32m     44\u001b[0m \u001b[38;5;28mprint\u001b[39m(\u001b[38;5;124mf\u001b[39m\u001b[38;5;124m\"\u001b[39m\u001b[38;5;132;01m{\u001b[39;00m\u001b[38;5;28mvars\u001b[39m(\u001b[38;5;28mself\u001b[39m)\u001b[38;5;241m.\u001b[39mitems()\u001b[38;5;132;01m=}\u001b[39;00m\u001b[38;5;124m\"\u001b[39m)\n",
      "\u001b[0;31mAttributeError\u001b[0m: property of 'A' object has no deleter"
     ]
    }
   ],
   "source": [
    "def a_decorator(cls):\n",
    "    \n",
    "    old_init = cls.__init__\n",
    "    cls.__PROPERTIES_ADDED = False\n",
    "    \n",
    "    def create_property(storage_name):\n",
    "        def g(instance): return getattr(instance,storage_name)\n",
    "        def s(instance,value): instance.__dict__[storage_name] = value\n",
    "        return property(g,s)\n",
    "    \n",
    "    def new_init(self,*args,**kwargs):    # since cls is returned, this will just override cls.__init__ \n",
    "        print(\"----------In Init----------\")\n",
    "        print(f\"{self.__PROPERTIES_ADDED=}\")\n",
    "        \n",
    "        old_init(self,*args,**kwargs) # run old __init__ first\n",
    "        print(f\"{vars(self).items()=}\")\n",
    "        \n",
    "        if not self.__class__.__PROPERTIES_ADDED:\n",
    "            property_descriptors_to_add_to_cls = dict()\n",
    "\n",
    "            # Inspect instance data\n",
    "            og_instance_attrs_dict = {k:v for (k,v) in vars(self).items()}\n",
    "            print(f\"{og_instance_attrs_dict=}\")\n",
    "            for attrname, attrval in og_instance_attrs_dict.items():\n",
    "                storage_name = attrname                           #\n",
    "                setattr(self, storage_name, attrval)  # The storage name is a true attribute, not a special property descriptor.\n",
    "                # create the property so that we can add it to the cls\n",
    "                property_descriptors_to_add_to_cls[attrname] = create_property(storage_name)\n",
    "                # delete the old attr becuase it has the same name as the property descriptor\n",
    "                delattr(self,attrname)\n",
    "\n",
    "\n",
    "            for attrname, property_defn in property_descriptors_to_add_to_cls.items():\n",
    "                setattr(cls,attrname,property_defn)\n",
    "\n",
    "            self.__class__.__PROPERTIES_ADDED = True\n",
    "            \n",
    "        if self.__class__.__PROPERTIES_ADDED:\n",
    "            for attrname, attrval in vars(self).items():\n",
    "                storage_name = attrname                           #\n",
    "                setattr(self, storage_name, attrval)  # The storage name is a true attribute, not a special property descriptor.\n",
    "                delattr(self,attrname)\n",
    "            \n",
    "        print(f\"{vars(self).items()=}\")\n",
    "        \n",
    "        \n",
    "    ##################### END NEW_INIT #################### \n",
    "    cls.__init__ = new_init\n",
    "    print(\"----------Exiting Decorator----------\")\n",
    "    return cls\n",
    "\n",
    "@a_decorator\n",
    "@dataclass\n",
    "class A:\n",
    "    attr1:str = \"attr1\"\n",
    "    attr2:int = 2\n",
    "        \n",
    "print(\"----------Done with class definition----------\")\n",
    "\n",
    "a1 = A()\n",
    "print(\"----------created a1----------\")\n",
    "a1.attr1 = \"edited a1!\"\n",
    "print(f\"{vars(a1)=}\")\n",
    "\n",
    "a2 = A()\n",
    "print(\"----------created a2----------\")\n",
    "print(f\"{vars(a1)=}\", \" \"*4, f\"{vars(a2)=}\") # will be the same\n",
    "a2.attr2 = \"edited a2!\"\n",
    "print(f\"{vars(a1)=}\", \" \"*4, f\"{vars(a2)=}\") # seems like it works as expected!\n",
    "print(a2.attr1)"
   ]
  },
  {
   "cell_type": "code",
   "execution_count": null,
   "id": "5d8eae2b",
   "metadata": {},
   "outputs": [],
   "source": []
  },
  {
   "cell_type": "code",
   "execution_count": null,
   "id": "4aa5b418",
   "metadata": {},
   "outputs": [],
   "source": []
  },
  {
   "cell_type": "code",
   "execution_count": null,
   "id": "cd268ecd",
   "metadata": {},
   "outputs": [],
   "source": []
  },
  {
   "cell_type": "code",
   "execution_count": null,
   "id": "0d076d58",
   "metadata": {},
   "outputs": [],
   "source": []
  },
  {
   "cell_type": "markdown",
   "id": "34b7fc0a",
   "metadata": {},
   "source": [
    "# OPTION 2 (regex )"
   ]
  },
  {
   "cell_type": "code",
   "execution_count": 41,
   "id": "d7d3b737",
   "metadata": {},
   "outputs": [],
   "source": [
    "import re\n",
    "import inspect\n",
    "\n",
    "@dataclass\n",
    "class A:\n",
    "    attr1:str = \"attr1\"\n",
    "    attr2:int = 2\n"
   ]
  },
  {
   "cell_type": "code",
   "execution_count": 42,
   "id": "4fe8e36e",
   "metadata": {},
   "outputs": [
    {
     "ename": "OSError",
     "evalue": "could not get source code",
     "output_type": "error",
     "traceback": [
      "\u001b[0;31m---------------------------------------------------------------------------\u001b[0m",
      "\u001b[0;31mOSError\u001b[0m                                   Traceback (most recent call last)",
      "Cell \u001b[0;32mIn[42], line 1\u001b[0m\n\u001b[0;32m----> 1\u001b[0m inspect\u001b[38;5;241m.\u001b[39mgetsource(A\u001b[38;5;241m.\u001b[39m\u001b[38;5;21m__init__\u001b[39m)\n",
      "File \u001b[0;32m~/miniconda3/envs/dev/lib/python3.11/inspect.py:1262\u001b[0m, in \u001b[0;36mgetsource\u001b[0;34m(object)\u001b[0m\n\u001b[1;32m   1256\u001b[0m \u001b[38;5;28;01mdef\u001b[39;00m \u001b[38;5;21mgetsource\u001b[39m(\u001b[38;5;28mobject\u001b[39m):\n\u001b[1;32m   1257\u001b[0m \u001b[38;5;250m    \u001b[39m\u001b[38;5;124;03m\"\"\"Return the text of the source code for an object.\u001b[39;00m\n\u001b[1;32m   1258\u001b[0m \n\u001b[1;32m   1259\u001b[0m \u001b[38;5;124;03m    The argument may be a module, class, method, function, traceback, frame,\u001b[39;00m\n\u001b[1;32m   1260\u001b[0m \u001b[38;5;124;03m    or code object.  The source code is returned as a single string.  An\u001b[39;00m\n\u001b[1;32m   1261\u001b[0m \u001b[38;5;124;03m    OSError is raised if the source code cannot be retrieved.\"\"\"\u001b[39;00m\n\u001b[0;32m-> 1262\u001b[0m     lines, lnum \u001b[38;5;241m=\u001b[39m getsourcelines(\u001b[38;5;28mobject\u001b[39m)\n\u001b[1;32m   1263\u001b[0m     \u001b[38;5;28;01mreturn\u001b[39;00m \u001b[38;5;124m'\u001b[39m\u001b[38;5;124m'\u001b[39m\u001b[38;5;241m.\u001b[39mjoin(lines)\n",
      "File \u001b[0;32m~/miniconda3/envs/dev/lib/python3.11/inspect.py:1244\u001b[0m, in \u001b[0;36mgetsourcelines\u001b[0;34m(object)\u001b[0m\n\u001b[1;32m   1236\u001b[0m \u001b[38;5;250m\u001b[39m\u001b[38;5;124;03m\"\"\"Return a list of source lines and starting line number for an object.\u001b[39;00m\n\u001b[1;32m   1237\u001b[0m \n\u001b[1;32m   1238\u001b[0m \u001b[38;5;124;03mThe argument may be a module, class, method, function, traceback, frame,\u001b[39;00m\n\u001b[0;32m   (...)\u001b[0m\n\u001b[1;32m   1241\u001b[0m \u001b[38;5;124;03moriginal source file the first line of code was found.  An OSError is\u001b[39;00m\n\u001b[1;32m   1242\u001b[0m \u001b[38;5;124;03mraised if the source code cannot be retrieved.\"\"\"\u001b[39;00m\n\u001b[1;32m   1243\u001b[0m \u001b[38;5;28mobject\u001b[39m \u001b[38;5;241m=\u001b[39m unwrap(\u001b[38;5;28mobject\u001b[39m)\n\u001b[0;32m-> 1244\u001b[0m lines, lnum \u001b[38;5;241m=\u001b[39m findsource(\u001b[38;5;28mobject\u001b[39m)\n\u001b[1;32m   1246\u001b[0m \u001b[38;5;28;01mif\u001b[39;00m istraceback(\u001b[38;5;28mobject\u001b[39m):\n\u001b[1;32m   1247\u001b[0m     \u001b[38;5;28mobject\u001b[39m \u001b[38;5;241m=\u001b[39m \u001b[38;5;28mobject\u001b[39m\u001b[38;5;241m.\u001b[39mtb_frame\n",
      "File \u001b[0;32m~/miniconda3/envs/dev/lib/python3.11/inspect.py:1081\u001b[0m, in \u001b[0;36mfindsource\u001b[0;34m(object)\u001b[0m\n\u001b[1;32m   1079\u001b[0m     lines \u001b[38;5;241m=\u001b[39m linecache\u001b[38;5;241m.\u001b[39mgetlines(file)\n\u001b[1;32m   1080\u001b[0m \u001b[38;5;28;01mif\u001b[39;00m \u001b[38;5;129;01mnot\u001b[39;00m lines:\n\u001b[0;32m-> 1081\u001b[0m     \u001b[38;5;28;01mraise\u001b[39;00m \u001b[38;5;167;01mOSError\u001b[39;00m(\u001b[38;5;124m'\u001b[39m\u001b[38;5;124mcould not get source code\u001b[39m\u001b[38;5;124m'\u001b[39m)\n\u001b[1;32m   1083\u001b[0m \u001b[38;5;28;01mif\u001b[39;00m ismodule(\u001b[38;5;28mobject\u001b[39m):\n\u001b[1;32m   1084\u001b[0m     \u001b[38;5;28;01mreturn\u001b[39;00m lines, \u001b[38;5;241m0\u001b[39m\n",
      "\u001b[0;31mOSError\u001b[0m: could not get source code"
     ]
    }
   ],
   "source": [
    "inspect.getsource(A.__init__)"
   ]
  },
  {
   "cell_type": "markdown",
   "id": "36dcb617",
   "metadata": {},
   "source": [
    "# OKAY Back to option 1..."
   ]
  },
  {
   "cell_type": "code",
   "execution_count": 54,
   "id": "167e41f2",
   "metadata": {
    "scrolled": true
   },
   "outputs": [
    {
     "data": {
      "text/plain": [
       "mappingproxy({'__module__': '__main__',\n",
       "              '__annotations__': {'attr1': str,\n",
       "               'attr2': int,\n",
       "               'attr3': __main__.B},\n",
       "              'attr1': 'attr1',\n",
       "              'attr2': 2,\n",
       "              'attr3': None,\n",
       "              '__dict__': <attribute '__dict__' of 'A' objects>,\n",
       "              '__weakref__': <attribute '__weakref__' of 'A' objects>,\n",
       "              '__doc__': None})"
      ]
     },
     "execution_count": 54,
     "metadata": {},
     "output_type": "execute_result"
    }
   ],
   "source": [
    "class B:\n",
    "    pass\n",
    "\n",
    "class A:\n",
    "    attr1:str = \"attr1\"\n",
    "    attr2:int = 2\n",
    "    attr3: B = None\n",
    "\n",
    "vars(A)\n"
   ]
  },
  {
   "cell_type": "code",
   "execution_count": 52,
   "id": "9df5324c",
   "metadata": {},
   "outputs": [],
   "source": [
    "# Maybe go thru the __annotations__ and create getters and setters that way?"
   ]
  },
  {
   "cell_type": "code",
   "execution_count": 57,
   "id": "9910617a",
   "metadata": {},
   "outputs": [
    {
     "name": "stdout",
     "output_type": "stream",
     "text": [
      "----------Done with class definition----------\n"
     ]
    },
    {
     "ename": "AttributeError",
     "evalue": "property of 'A' object has no deleter",
     "output_type": "error",
     "traceback": [
      "\u001b[0;31m---------------------------------------------------------------------------\u001b[0m",
      "\u001b[0;31mAttributeError\u001b[0m                            Traceback (most recent call last)",
      "Cell \u001b[0;32mIn[57], line 37\u001b[0m\n\u001b[1;32m     33\u001b[0m     attr2:\u001b[38;5;28mint\u001b[39m \u001b[38;5;241m=\u001b[39m \u001b[38;5;241m2\u001b[39m\n\u001b[1;32m     35\u001b[0m \u001b[38;5;28mprint\u001b[39m(\u001b[38;5;124m\"\u001b[39m\u001b[38;5;124m----------Done with class definition----------\u001b[39m\u001b[38;5;124m\"\u001b[39m)\n\u001b[0;32m---> 37\u001b[0m a1 \u001b[38;5;241m=\u001b[39m A()\n\u001b[1;32m     38\u001b[0m \u001b[38;5;28mprint\u001b[39m(\u001b[38;5;124m\"\u001b[39m\u001b[38;5;124m----------created a1----------\u001b[39m\u001b[38;5;124m\"\u001b[39m)\n\u001b[1;32m     39\u001b[0m a1\u001b[38;5;241m.\u001b[39mattr1 \u001b[38;5;241m=\u001b[39m \u001b[38;5;124m\"\u001b[39m\u001b[38;5;124medited a1!\u001b[39m\u001b[38;5;124m\"\u001b[39m\n",
      "Cell \u001b[0;32mIn[57], line 21\u001b[0m, in \u001b[0;36ma_decorator.<locals>.new_init\u001b[0;34m(self, *args, **kwargs)\u001b[0m\n\u001b[1;32m     19\u001b[0m \u001b[38;5;28;01mfor\u001b[39;00m attrname \u001b[38;5;129;01min\u001b[39;00m \u001b[38;5;28mcls\u001b[39m\u001b[38;5;241m.\u001b[39m\u001b[38;5;18m__annotations__\u001b[39m\u001b[38;5;241m.\u001b[39mkeys():\n\u001b[1;32m     20\u001b[0m     value \u001b[38;5;241m=\u001b[39m \u001b[38;5;28mgetattr\u001b[39m(\u001b[38;5;28mself\u001b[39m, attrname)\n\u001b[0;32m---> 21\u001b[0m     \u001b[38;5;28mdelattr\u001b[39m(\u001b[38;5;28mself\u001b[39m, attrname)\n\u001b[1;32m     22\u001b[0m     \u001b[38;5;28msetattr\u001b[39m(\u001b[38;5;28mself\u001b[39m, attrname, value)\n",
      "\u001b[0;31mAttributeError\u001b[0m: property of 'A' object has no deleter"
     ]
    }
   ],
   "source": [
    "def a_decorator(cls):\n",
    "    # class-level stuff\n",
    "    for attrname in cls.__annotations__.keys():\n",
    "        fget = lambda self, attrname=attrname: getattr(self, f\"_{attrname}\")\n",
    "        fset = lambda self, value, attrname=attrname: setattr(self, f\"_{attrname}\", value)\n",
    "        # set the property on the class\n",
    "        setattr(cls, attrname, property(fget, fset))\n",
    "    \n",
    "    # make sure instances delete move all attributes defined in their __init__ to the new class properties\n",
    "    # save a reference to the original __init__ method\n",
    "    original_init = cls.__init__\n",
    "\n",
    "    # define a new __init__ method\n",
    "    def new_init(self, *args, **kwargs):\n",
    "        # call the original __init__ method\n",
    "        original_init(self, *args, **kwargs)\n",
    "\n",
    "        # move attributes to their respective properties\n",
    "        for attrname in cls.__annotations__.keys():\n",
    "            value = getattr(self, attrname)\n",
    "            delattr(self, attrname)\n",
    "            setattr(self, attrname, value)\n",
    "\n",
    "    # set the new __init__ method on the class\n",
    "    cls.__init__ = new_init\n",
    "\n",
    "    return cls\n",
    "\n",
    "@a_decorator\n",
    "@dataclass\n",
    "class A:\n",
    "    attr1:str = \"attr1\"\n",
    "    attr2:int = 2\n",
    "        \n",
    "print(\"----------Done with class definition----------\")\n",
    "\n",
    "a1 = A()\n",
    "print(\"----------created a1----------\")\n",
    "a1.attr1 = \"edited a1!\"\n",
    "print(f\"{vars(a1)=}\")\n",
    "\n",
    "a2 = A()\n",
    "print(\"----------created a2----------\")\n",
    "print(f\"{vars(a1)=}\", \" \"*4, f\"{vars(a2)=}\") # will be the same\n",
    "a2.attr2 = \"edited a2!\"\n",
    "print(f\"{vars(a1)=}\", \" \"*4, f\"{vars(a2)=}\") # seems like it works as expected!\n",
    "print(a2.attr1)"
   ]
  },
  {
   "cell_type": "code",
   "execution_count": 90,
   "id": "d347317b",
   "metadata": {},
   "outputs": [
    {
     "name": "stdout",
     "output_type": "stream",
     "text": [
      "----------in decorator----------\n",
      "----------Done with class definition----------\n",
      "----------in new init----------\n",
      "looking at attrname attr1\n",
      "looking at attrname attr2\n",
      "----------created a1----------\n",
      "vars(a1)={'_attr1': 'edited a1!', '_attr2': 2}\n",
      "----------in new init----------\n",
      "looking at attrname attr1\n",
      "looking at attrname attr2\n",
      "----------created a2----------\n",
      "vars(a1)={'_attr1': 'edited a1!', '_attr2': 2}      vars(a2)={'_attr1': 'attr1', '_attr2': 2}\n",
      "vars(a1)={'_attr1': 'edited a1!', '_attr2': 2}      vars(a2)={'_attr1': 'attr1', '_attr2': 'edited a2!'}\n",
      "attr1\n"
     ]
    }
   ],
   "source": [
    "def a_decorator(cls):\n",
    "    # class-level stuff\n",
    "    print(\"----------in decorator----------\")\n",
    "    for attrname in cls.__annotations__.keys():\n",
    "        # capture the current attrname in the closure of the lambda functions\n",
    "        fget = lambda self, attrname=attrname: getattr(self, f\"_{attrname}\")\n",
    "        fset = lambda self, value, attrname=attrname: setattr(self, f\"_{attrname}\", value)\n",
    "        fdel = lambda self, attrname=attrname: delattr(self, f\"_{attrname}\")\n",
    "        # set the property on the class\n",
    "        setattr(cls, attrname, property(fget, fset))\n",
    "\n",
    "    # save a reference to the original __init__ method\n",
    "    original_init = cls.__init__\n",
    "\n",
    "    # define a new __init__ method\n",
    "    def new_init(self, *args, **kwargs):\n",
    "        print(\"----------in new init----------\")\n",
    "        # call the original __init__ method\n",
    "        original_init(self, *args, **kwargs)\n",
    "\n",
    "        # move attributes to their respective properties\n",
    "        for attrname in cls.__annotations__.keys():\n",
    "            print(f\"looking at attrname {attrname}\")\n",
    "            value = getattr(self, attrname)\n",
    "            # No need to delete the attribute, simply set the new attribute with a '_' prefix to value\n",
    "            setattr(self, f'_{attrname}', value)\n",
    "\n",
    "    # set the new __init__ method on the class\n",
    "    cls.__init__ = new_init\n",
    "\n",
    "    return cls\n",
    "\n",
    "@a_decorator\n",
    "@dataclass\n",
    "class A:\n",
    "    attr1: str = \"attr1\"\n",
    "    attr2: int = 2\n",
    "\n",
    "        \n",
    "print(\"----------Done with class definition----------\")\n",
    "\n",
    "a1 = A()\n",
    "print(\"----------created a1----------\")\n",
    "a1.attr1 = \"edited a1!\"\n",
    "print(f\"{vars(a1)=}\")\n",
    "\n",
    "a2 = A()\n",
    "print(\"----------created a2----------\")\n",
    "print(f\"{vars(a1)=}\", \" \"*4, f\"{vars(a2)=}\") # will be the same\n",
    "a2.attr2 = \"edited a2!\"\n",
    "print(f\"{vars(a1)=}\", \" \"*4, f\"{vars(a2)=}\") # seems like it works as expected!\n",
    "print(a2.attr1)"
   ]
  },
  {
   "cell_type": "code",
   "execution_count": 91,
   "id": "432ce394",
   "metadata": {},
   "outputs": [
    {
     "name": "stdout",
     "output_type": "stream",
     "text": [
      "{'_attr1': 'edited a1!', '_attr2': 2}\n",
      "<class 'str'> <class 'property'>\n"
     ]
    }
   ],
   "source": [
    "print(vars(a1))\n",
    "print(type(a1.attr1), type(A.attr1))"
   ]
  },
  {
   "cell_type": "code",
   "execution_count": 92,
   "id": "845fb36e",
   "metadata": {},
   "outputs": [
    {
     "data": {
      "text/plain": [
       "[('attr1', <property at 0x1262cb740>), ('attr2', <property at 0x1262cb470>)]"
      ]
     },
     "execution_count": 92,
     "metadata": {},
     "output_type": "execute_result"
    }
   ],
   "source": [
    "[(k,v) for k,v in A.__dict__.items() if not k.startswith('__')]"
   ]
  },
  {
   "cell_type": "code",
   "execution_count": 105,
   "id": "e70e2221",
   "metadata": {},
   "outputs": [
    {
     "name": "stdout",
     "output_type": "stream",
     "text": [
      "----------in new init----------\n",
      "looking at attrname attr1\n",
      "looking at attrname attr2\n",
      "A(attr1='attr1', attr2=2)\n"
     ]
    },
    {
     "data": {
      "text/plain": [
       "{'_attr1': 'attr1', '_attr2': 2}"
      ]
     },
     "execution_count": 105,
     "metadata": {},
     "output_type": "execute_result"
    }
   ],
   "source": [
    "a3 = A()\n",
    "print(a3)\n",
    "vars(a3)"
   ]
  },
  {
   "cell_type": "code",
   "execution_count": 106,
   "id": "3597760d",
   "metadata": {},
   "outputs": [
    {
     "data": {
      "text/plain": [
       "{'_attr2': 2}"
      ]
     },
     "execution_count": 106,
     "metadata": {},
     "output_type": "execute_result"
    }
   ],
   "source": [
    "# delattr(a3,'_attr1') or \n",
    "del a3._attr1\n",
    "vars(a3)"
   ]
  },
  {
   "cell_type": "code",
   "execution_count": 97,
   "id": "9388b44b",
   "metadata": {},
   "outputs": [
    {
     "data": {
      "text/plain": [
       "2"
      ]
     },
     "execution_count": 97,
     "metadata": {},
     "output_type": "execute_result"
    }
   ],
   "source": [
    "a3.attr2"
   ]
  },
  {
   "cell_type": "code",
   "execution_count": null,
   "id": "0732c447",
   "metadata": {},
   "outputs": [],
   "source": []
  },
  {
   "cell_type": "code",
   "execution_count": null,
   "id": "ce537f1f",
   "metadata": {},
   "outputs": [],
   "source": []
  },
  {
   "cell_type": "code",
   "execution_count": null,
   "id": "40a91ed9",
   "metadata": {},
   "outputs": [],
   "source": []
  },
  {
   "cell_type": "code",
   "execution_count": null,
   "id": "8f9fd875",
   "metadata": {},
   "outputs": [],
   "source": []
  },
  {
   "cell_type": "code",
   "execution_count": null,
   "id": "eeb64c2c",
   "metadata": {},
   "outputs": [],
   "source": []
  },
  {
   "cell_type": "code",
   "execution_count": null,
   "id": "2a38b398",
   "metadata": {},
   "outputs": [],
   "source": []
  },
  {
   "cell_type": "code",
   "execution_count": null,
   "id": "ab95f82a",
   "metadata": {},
   "outputs": [],
   "source": []
  },
  {
   "cell_type": "code",
   "execution_count": null,
   "id": "838701f1",
   "metadata": {},
   "outputs": [],
   "source": []
  },
  {
   "cell_type": "code",
   "execution_count": null,
   "id": "aa2697dd",
   "metadata": {},
   "outputs": [],
   "source": []
  },
  {
   "cell_type": "code",
   "execution_count": null,
   "id": "85b9d851",
   "metadata": {},
   "outputs": [],
   "source": []
  },
  {
   "cell_type": "code",
   "execution_count": null,
   "id": "b5ec2d06",
   "metadata": {},
   "outputs": [],
   "source": []
  },
  {
   "cell_type": "code",
   "execution_count": null,
   "id": "c0a9fe9e",
   "metadata": {},
   "outputs": [],
   "source": []
  },
  {
   "cell_type": "code",
   "execution_count": null,
   "id": "503c3930",
   "metadata": {},
   "outputs": [],
   "source": []
  },
  {
   "cell_type": "code",
   "execution_count": null,
   "id": "ba9ace26",
   "metadata": {},
   "outputs": [],
   "source": []
  },
  {
   "cell_type": "code",
   "execution_count": null,
   "id": "04918b14",
   "metadata": {},
   "outputs": [],
   "source": []
  },
  {
   "cell_type": "code",
   "execution_count": null,
   "id": "f6f58832",
   "metadata": {},
   "outputs": [],
   "source": []
  },
  {
   "cell_type": "code",
   "execution_count": null,
   "id": "5799516a",
   "metadata": {},
   "outputs": [],
   "source": []
  },
  {
   "cell_type": "code",
   "execution_count": null,
   "id": "3ee37811",
   "metadata": {},
   "outputs": [],
   "source": []
  },
  {
   "cell_type": "code",
   "execution_count": null,
   "id": "845e37e0",
   "metadata": {},
   "outputs": [],
   "source": []
  },
  {
   "cell_type": "code",
   "execution_count": 56,
   "id": "4d3d177b",
   "metadata": {},
   "outputs": [
    {
     "name": "stdout",
     "output_type": "stream",
     "text": [
      "----------Exiting Decorator----------\n",
      "----------Done with class definition----------\n",
      "----------In Init----------\n",
      "self.__PROPERTIES_ADDED=False\n",
      "vars(self).items()=dict_items([('attr1', 'attr1'), ('attr2', 2)])\n",
      "og_instance_attrs_dict={'attr1': 'attr1', 'attr2': 2}\n",
      "vars(self).items()=dict_items([])\n",
      "----------created a1----------\n",
      "vars(a1)={'attr1': 'edited a1!'}\n",
      "----------In Init----------\n",
      "self.__PROPERTIES_ADDED=True\n",
      "vars(self).items()=dict_items([('attr1', 'attr1'), ('attr2', 2)])\n"
     ]
    },
    {
     "ename": "AttributeError",
     "evalue": "property of 'A' object has no deleter",
     "output_type": "error",
     "traceback": [
      "\u001b[0;31m---------------------------------------------------------------------------\u001b[0m",
      "\u001b[0;31mAttributeError\u001b[0m                            Traceback (most recent call last)",
      "Cell \u001b[0;32mIn[56], line 65\u001b[0m\n\u001b[1;32m     62\u001b[0m a1\u001b[38;5;241m.\u001b[39mattr1 \u001b[38;5;241m=\u001b[39m \u001b[38;5;124m\"\u001b[39m\u001b[38;5;124medited a1!\u001b[39m\u001b[38;5;124m\"\u001b[39m\n\u001b[1;32m     63\u001b[0m \u001b[38;5;28mprint\u001b[39m(\u001b[38;5;124mf\u001b[39m\u001b[38;5;124m\"\u001b[39m\u001b[38;5;132;01m{\u001b[39;00m\u001b[38;5;28mvars\u001b[39m(a1)\u001b[38;5;132;01m=}\u001b[39;00m\u001b[38;5;124m\"\u001b[39m)\n\u001b[0;32m---> 65\u001b[0m a2 \u001b[38;5;241m=\u001b[39m A()\n\u001b[1;32m     66\u001b[0m \u001b[38;5;28mprint\u001b[39m(\u001b[38;5;124m\"\u001b[39m\u001b[38;5;124m----------created a2----------\u001b[39m\u001b[38;5;124m\"\u001b[39m)\n\u001b[1;32m     67\u001b[0m \u001b[38;5;28mprint\u001b[39m(\u001b[38;5;124mf\u001b[39m\u001b[38;5;124m\"\u001b[39m\u001b[38;5;132;01m{\u001b[39;00m\u001b[38;5;28mvars\u001b[39m(a1)\u001b[38;5;132;01m=}\u001b[39;00m\u001b[38;5;124m\"\u001b[39m, \u001b[38;5;124m\"\u001b[39m\u001b[38;5;124m \u001b[39m\u001b[38;5;124m\"\u001b[39m\u001b[38;5;241m*\u001b[39m\u001b[38;5;241m4\u001b[39m, \u001b[38;5;124mf\u001b[39m\u001b[38;5;124m\"\u001b[39m\u001b[38;5;132;01m{\u001b[39;00m\u001b[38;5;28mvars\u001b[39m(a2)\u001b[38;5;132;01m=}\u001b[39;00m\u001b[38;5;124m\"\u001b[39m) \u001b[38;5;66;03m# will be the same\u001b[39;00m\n",
      "Cell \u001b[0;32mIn[56], line 42\u001b[0m, in \u001b[0;36ma_decorator.<locals>.new_init\u001b[0;34m(self, *args, **kwargs)\u001b[0m\n\u001b[1;32m     40\u001b[0m         storage_name \u001b[38;5;241m=\u001b[39m attrname                           \u001b[38;5;66;03m#\u001b[39;00m\n\u001b[1;32m     41\u001b[0m         \u001b[38;5;28msetattr\u001b[39m(\u001b[38;5;28mself\u001b[39m, storage_name, attrval)  \u001b[38;5;66;03m# The storage name is a true attribute, not a special property descriptor.\u001b[39;00m\n\u001b[0;32m---> 42\u001b[0m         \u001b[38;5;28mdelattr\u001b[39m(\u001b[38;5;28mself\u001b[39m,attrname)\n\u001b[1;32m     44\u001b[0m \u001b[38;5;28mprint\u001b[39m(\u001b[38;5;124mf\u001b[39m\u001b[38;5;124m\"\u001b[39m\u001b[38;5;132;01m{\u001b[39;00m\u001b[38;5;28mvars\u001b[39m(\u001b[38;5;28mself\u001b[39m)\u001b[38;5;241m.\u001b[39mitems()\u001b[38;5;132;01m=}\u001b[39;00m\u001b[38;5;124m\"\u001b[39m)\n",
      "\u001b[0;31mAttributeError\u001b[0m: property of 'A' object has no deleter"
     ]
    }
   ],
   "source": [
    "def a_decorator(cls):\n",
    "    \n",
    "    old_init = cls.__init__\n",
    "    cls.__PROPERTIES_ADDED = False\n",
    "    \n",
    "    def create_property(storage_name):\n",
    "        def g(instance): return getattr(instance,storage_name)\n",
    "        def s(instance,value): instance.__dict__[storage_name] = value\n",
    "        return property(g,s)\n",
    "    \n",
    "    def new_init(self,*args,**kwargs):    # since cls is returned, this will just override cls.__init__ \n",
    "        print(\"----------In Init----------\")\n",
    "        print(f\"{self.__PROPERTIES_ADDED=}\")\n",
    "        \n",
    "        old_init(self,*args,**kwargs) # run old __init__ first\n",
    "        print(f\"{vars(self).items()=}\")\n",
    "        \n",
    "        if not self.__class__.__PROPERTIES_ADDED:\n",
    "            property_descriptors_to_add_to_cls = dict()\n",
    "\n",
    "            # Inspect instance data\n",
    "            og_instance_attrs_dict = {k:v for (k,v) in vars(self).items()}\n",
    "            print(f\"{og_instance_attrs_dict=}\")\n",
    "            for attrname, attrval in og_instance_attrs_dict.items():\n",
    "                storage_name = attrname                           #\n",
    "                setattr(self, storage_name, attrval)  # The storage name is a true attribute, not a special property descriptor.\n",
    "                # create the property so that we can add it to the cls\n",
    "                property_descriptors_to_add_to_cls[attrname] = create_property(storage_name)\n",
    "                # delete the old attr becuase it has the same name as the property descriptor\n",
    "                delattr(self,attrname)\n",
    "\n",
    "\n",
    "            for attrname, property_defn in property_descriptors_to_add_to_cls.items():\n",
    "                setattr(cls,attrname,property_defn)\n",
    "\n",
    "            self.__class__.__PROPERTIES_ADDED = True\n",
    "            \n",
    "        if self.__class__.__PROPERTIES_ADDED:\n",
    "            for attrname, attrval in vars(self).items():\n",
    "                storage_name = attrname                           #\n",
    "                setattr(self, storage_name, attrval)  # The storage name is a true attribute, not a special property descriptor.\n",
    "                delattr(self,attrname)\n",
    "            \n",
    "        print(f\"{vars(self).items()=}\")\n",
    "        \n",
    "        \n",
    "    ##################### END NEW_INIT #################### \n",
    "    cls.__init__ = new_init\n",
    "    print(\"----------Exiting Decorator----------\")\n",
    "    return cls\n",
    "\n",
    "@a_decorator\n",
    "@dataclass\n",
    "class A:\n",
    "    attr1:str = \"attr1\"\n",
    "    attr2:int = 2\n",
    "        \n",
    "print(\"----------Done with class definition----------\")\n",
    "\n",
    "a1 = A()\n",
    "print(\"----------created a1----------\")\n",
    "a1.attr1 = \"edited a1!\"\n",
    "print(f\"{vars(a1)=}\")\n",
    "\n",
    "a2 = A()\n",
    "print(\"----------created a2----------\")\n",
    "print(f\"{vars(a1)=}\", \" \"*4, f\"{vars(a2)=}\") # will be the same\n",
    "a2.attr2 = \"edited a2!\"\n",
    "print(f\"{vars(a1)=}\", \" \"*4, f\"{vars(a2)=}\") # seems like it works as expected!\n",
    "print(a2.attr1)"
   ]
  },
  {
   "cell_type": "code",
   "execution_count": null,
   "id": "573710fa",
   "metadata": {},
   "outputs": [],
   "source": []
  }
 ],
 "metadata": {
  "kernelspec": {
   "display_name": "Python 3 (ipykernel)",
   "language": "python",
   "name": "python3"
  },
  "language_info": {
   "codemirror_mode": {
    "name": "ipython",
    "version": 3
   },
   "file_extension": ".py",
   "mimetype": "text/x-python",
   "name": "python",
   "nbconvert_exporter": "python",
   "pygments_lexer": "ipython3",
   "version": "3.11.4"
  }
 },
 "nbformat": 4,
 "nbformat_minor": 5
}
