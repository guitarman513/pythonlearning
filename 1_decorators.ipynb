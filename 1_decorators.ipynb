{
 "cells": [
  {
   "cell_type": "markdown",
   "id": "f517de71",
   "metadata": {},
   "source": [
    "### Simple Decorator"
   ]
  },
  {
   "cell_type": "code",
   "execution_count": 1,
   "id": "30c4fb84",
   "metadata": {},
   "outputs": [
    {
     "name": "stdout",
     "output_type": "stream",
     "text": [
      "undecorated\n"
     ]
    }
   ],
   "source": [
    "def add_stars(func): # This function add_stars will receive a function as an input\n",
    "    def func_that_gets_returned(*args, **kwargs): \n",
    "        # This name doesn't matter. It's what the decorated function gets transformed into\n",
    "        # Note that *args and **kwargs could be anything. Doing this allows the decorated function to \n",
    "        # have any signature, and this decorator will allow it to work\n",
    "        print('*'*15)\n",
    "        func(*args, **kwargs) # execute the function like normal\n",
    "        print('*'*15)\n",
    "    return func_that_gets_returned\n",
    "\n",
    "def print_something(phrase):\n",
    "    print(phrase)\n",
    "    \n",
    "\n",
    "print_something(\"undecorated\")"
   ]
  },
  {
   "cell_type": "code",
   "execution_count": 2,
   "id": "5801c9e7",
   "metadata": {},
   "outputs": [
    {
     "name": "stdout",
     "output_type": "stream",
     "text": [
      "***************\n",
      "decorated\n",
      "***************\n"
     ]
    }
   ],
   "source": [
    "def add_stars(func): # This function add_stars will receive a function as an input\n",
    "    def func_that_gets_returned(*args, **kwargs): \n",
    "        # This name doesn't matter. It's what the decorated function gets transformed into\n",
    "        # Note that *args and **kwargs could be anything. Doing this allows the decorated function to \n",
    "        # have any signature, and this decorator will allow it to work\n",
    "        print('*'*15)\n",
    "        func(*args, **kwargs) # execute the function like normal\n",
    "        print('*'*15)\n",
    "    return func_that_gets_returned\n",
    "\n",
    "@add_stars\n",
    "def print_something(phrase):\n",
    "    print(phrase)\n",
    "    \n",
    "\n",
    "print_something(\"decorated\")"
   ]
  },
  {
   "cell_type": "markdown",
   "id": "4abf811f",
   "metadata": {},
   "source": [
    "### Error when inner func doesn't account for function signature of the original function"
   ]
  },
  {
   "cell_type": "code",
   "execution_count": 5,
   "id": "6e1c7573",
   "metadata": {},
   "outputs": [
    {
     "ename": "TypeError",
     "evalue": "add_stars.<locals>.func_that_gets_returned() takes 0 positional arguments but 1 was given",
     "output_type": "error",
     "traceback": [
      "\u001b[0;31m---------------------------------------------------------------------------\u001b[0m",
      "\u001b[0;31mTypeError\u001b[0m                                 Traceback (most recent call last)",
      "Cell \u001b[0;32mIn[5], line 15\u001b[0m\n\u001b[1;32m     10\u001b[0m \u001b[38;5;129m@add_stars\u001b[39m\n\u001b[1;32m     11\u001b[0m \u001b[38;5;28;01mdef\u001b[39;00m \u001b[38;5;21mprint_something\u001b[39m(phrase):\n\u001b[1;32m     12\u001b[0m     \u001b[38;5;28mprint\u001b[39m(phrase)\n\u001b[0;32m---> 15\u001b[0m print_something(\u001b[38;5;124m\"\u001b[39m\u001b[38;5;124mdecorated\u001b[39m\u001b[38;5;124m\"\u001b[39m)\n",
      "\u001b[0;31mTypeError\u001b[0m: add_stars.<locals>.func_that_gets_returned() takes 0 positional arguments but 1 was given"
     ]
    }
   ],
   "source": [
    "def add_stars(func): # This function add_stars will receive a function as an input\n",
    "    def func_that_gets_returned(): \n",
    "        # This name doesn't matter. It's what the decorated function gets transformed into\n",
    "        # have any signature, and this decorator will allow it to work\n",
    "        print('*'*15)\n",
    "        func() # execute the function like normal\n",
    "        print('*'*15)\n",
    "    return func_that_gets_returned\n",
    "\n",
    "@add_stars\n",
    "def print_something(phrase):\n",
    "    print(phrase)\n",
    "    \n",
    "\n",
    "print_something(\"decorated\")"
   ]
  },
  {
   "cell_type": "markdown",
   "id": "cc0866b3",
   "metadata": {},
   "source": [
    "### What you have to do without decorators"
   ]
  },
  {
   "cell_type": "code",
   "execution_count": 8,
   "id": "405fa3df",
   "metadata": {},
   "outputs": [
    {
     "name": "stdout",
     "output_type": "stream",
     "text": [
      "***************\n",
      "with stars\n",
      "***************\n",
      "***************\n",
      "decorated without the @ sign!\n",
      "***************\n"
     ]
    }
   ],
   "source": [
    "def add_stars(func): # This function add_stars will receive a function as an input\n",
    "    def func_that_gets_returned(*args, **kwargs): \n",
    "        # This name doesn't matter. It's what the decorated function gets transformed into\n",
    "        # Note that *args and **kwargs could be anything. Doing this allows the decorated function to \n",
    "        # have any signature, and this decorator will allow it to work\n",
    "        print('*'*15)\n",
    "        func(*args, **kwargs) # execute the function like normal\n",
    "        print('*'*15)\n",
    "    return func_that_gets_returned\n",
    "\n",
    "def print_something(phrase):\n",
    "    print(phrase)\n",
    "    \n",
    "\n",
    "# You could make a new function if you want to avoid clobbering the name of `print_something`\n",
    "print_something_with_stars = add_stars(print_something)\n",
    "print_something_with_stars(\"with stars\")    \n",
    "\n",
    "print_something = add_stars(print_something)\n",
    "# This is un-pythonic, but shows you exactly what happens\n",
    "# The `print_something` function no longer exists as it used to.\n",
    "\n",
    "\n",
    "print_something(\"decorated without the @ sign!\")"
   ]
  },
  {
   "cell_type": "markdown",
   "id": "fc99aca3",
   "metadata": {},
   "source": [
    "# DECORATORS WITH CLASSES\n",
    "\n",
    "### The below add_stars decorator is unchanged, and still works. The signature is misleading, because `func` is really a class object commonly abbreviated as `cls`. Either way, the args/kwargs will be passed like before. "
   ]
  },
  {
   "cell_type": "code",
   "execution_count": 12,
   "id": "55999da3",
   "metadata": {},
   "outputs": [
    {
     "name": "stdout",
     "output_type": "stream",
     "text": [
      "in class constructor\n",
      "\n",
      "\n",
      "\n",
      "\n",
      "***************\n",
      "in class constructor with stars around it\n",
      "***************\n"
     ]
    }
   ],
   "source": [
    "def add_stars(func): # This function add_stars will receive a function as an input\n",
    "    def func_that_gets_returned(*args, **kwargs): \n",
    "        # This name doesn't matter. It's what the decorated function gets transformed into\n",
    "        # Note that *args and **kwargs could be anything. Doing this allows the decorated function to \n",
    "        # have any signature, and this decorator will allow it to work\n",
    "        print('*'*15)\n",
    "        func(*args, **kwargs) # execute the function like normal\n",
    "        print('*'*15)\n",
    "    return func_that_gets_returned\n",
    "\n",
    "class A:\n",
    "    def __init__(self,a):\n",
    "        self.a=a\n",
    "        print(\"in class constructor\")\n",
    "\n",
    "a = A(1)\n",
    "\n",
    "\n",
    "print('\\n'*3)\n",
    "\n",
    "@add_stars\n",
    "class B:\n",
    "    def __init__(self,a):\n",
    "        self.a=a\n",
    "        print(\"in class constructor with stars around it\")\n",
    "\n",
    "b = B(1)"
   ]
  },
  {
   "cell_type": "markdown",
   "id": "0eb190c7",
   "metadata": {},
   "source": [
    "### Important^ See how args and kwargs (in the above case, just the parameter `a`) are passed to the decorated class still, becuase the new class definition is `func_that_gets_returned`. First `func_that_gets_returned` prints stars, then it passes all your args/kwargs to whatever definition it just overwrote, then whenever the code kicked off by the constructor is done, more stars are printed. Cool!"
   ]
  },
  {
   "cell_type": "markdown",
   "id": "e9f726c0",
   "metadata": {},
   "source": [
    "## Now lets make a decorator that takes in parameters. In this case, such a decorator is really just a function that returns a decorator, and that decorator takes in the function/class below it as an input..."
   ]
  },
  {
   "cell_type": "code",
   "execution_count": 31,
   "id": "11b9a0f2",
   "metadata": {},
   "outputs": [
    {
     "name": "stdout",
     "output_type": "stream",
     "text": [
      "in class constructor\n",
      "\n",
      "\n",
      "\n",
      "\n",
      "****\n",
      "in class constructor with stars around it\n",
      "****\n"
     ]
    }
   ],
   "source": [
    "def add_stars(num_stars):\n",
    "    def the_actual_class_decorator(cls):\n",
    "        def func_that_gets_returned(*args, **kwargs): \n",
    "            print('*'*num_stars)\n",
    "            cls(*args, **kwargs) # execute the class instantiation like normal\n",
    "            print('*'*num_stars)\n",
    "        return func_that_gets_returned # the decorator returns this \n",
    "    return the_actual_class_decorator\n",
    "\n",
    "class A:\n",
    "    def __init__(self,a):\n",
    "        self.a=a\n",
    "        print(\"in class constructor\")\n",
    "\n",
    "a = A(1)\n",
    "\n",
    "\n",
    "print('\\n'*3)\n",
    "\n",
    "@add_stars(4)\n",
    "class B:\n",
    "    def __init__(self,a):\n",
    "        self.a=a\n",
    "        print(\"in class constructor with stars around it\")\n",
    "\n",
    "b = B(1)"
   ]
  },
  {
   "cell_type": "code",
   "execution_count": null,
   "id": "7083e55b",
   "metadata": {},
   "outputs": [],
   "source": []
  },
  {
   "cell_type": "code",
   "execution_count": null,
   "id": "80f71a23",
   "metadata": {},
   "outputs": [],
   "source": []
  },
  {
   "cell_type": "code",
   "execution_count": null,
   "id": "0a07752b",
   "metadata": {},
   "outputs": [],
   "source": []
  },
  {
   "cell_type": "code",
   "execution_count": null,
   "id": "cbba73bd",
   "metadata": {},
   "outputs": [],
   "source": []
  },
  {
   "cell_type": "code",
   "execution_count": null,
   "id": "763aceb7",
   "metadata": {},
   "outputs": [],
   "source": []
  },
  {
   "cell_type": "code",
   "execution_count": null,
   "id": "bf9a834c",
   "metadata": {},
   "outputs": [],
   "source": []
  },
  {
   "cell_type": "markdown",
   "id": "0157598e",
   "metadata": {},
   "source": [
    "# INSANITY BELOW, WHICH IS WRONG AND I DON\"T UNDERSTAND IT YET"
   ]
  },
  {
   "cell_type": "markdown",
   "id": "cad46070",
   "metadata": {},
   "source": [
    "### Okay so apparently decorators can be any old object, not just functions. If an object is used as a decorator, it must define a __call__ method. When an object instance is called like a function, the __call__ method is automatically invoked."
   ]
  },
  {
   "cell_type": "code",
   "execution_count": 2,
   "id": "31a231e9",
   "metadata": {},
   "outputs": [
    {
     "name": "stdout",
     "output_type": "stream",
     "text": [
      "Before calling the function.\n",
      "Hello, Alice!\n",
      "After calling the function.\n"
     ]
    }
   ],
   "source": [
    "class DecoratorClass:\n",
    "    def __init__(self, func): \n",
    "        # the DecoratorClass instance receives `say_hello` as its `func`. \n",
    "        # Note that args and kwargs don't even exist yet. This is just defining the skeleton.\n",
    "        self.func = func\n",
    "\n",
    "    def __call__(self, *args, **kwargs): # when say_hello receives args,kwargs, they appear in the __call__ method\n",
    "        print(\"Before calling the function.\")\n",
    "        result = self.func(*args, **kwargs)\n",
    "        print(\"After calling the function.\")\n",
    "        return result\n",
    "\n",
    "@DecoratorClass\n",
    "def say_hello(name):\n",
    "    print(f\"Hello, {name}!\")\n",
    "\n",
    "say_hello(\"Alice\")"
   ]
  },
  {
   "cell_type": "markdown",
   "id": "c61b794f",
   "metadata": {},
   "source": [
    "### Let's make a decorator that decorates a function. The function it decorates represents the name of some sort of attribute. The desired behavior is that when someone accesses this weird-function-attribute hybrid as if it were an instance attribute, its value should be returned.\n",
    "\n",
    "### In order to do that, we need to implement `__get__`.\n",
    "\n",
    "### The `__get__` method is what makes Property a descriptor. Descriptors are objects that define the behavior of attributes when they're accessed as object attributes (like `obj.attr`). If a class has a `__get__` method, Python will use that method to get the value of the attribute when it's accessed, instead of just returning the value of the attribute directly."
   ]
  },
  {
   "cell_type": "code",
   "execution_count": null,
   "id": "aa18f4ae",
   "metadata": {},
   "outputs": [],
   "source": [
    "### THE BW"
   ]
  },
  {
   "cell_type": "code",
   "execution_count": 26,
   "id": "9c86a3a4",
   "metadata": {},
   "outputs": [
    {
     "ename": "TypeError",
     "evalue": "'NoneType' object is not callable",
     "output_type": "error",
     "traceback": [
      "\u001b[0;31m---------------------------------------------------------------------------\u001b[0m",
      "\u001b[0;31mTypeError\u001b[0m                                 Traceback (most recent call last)",
      "Cell \u001b[0;32mIn[26], line 22\u001b[0m\n\u001b[1;32m     18\u001b[0m         \u001b[38;5;28mself\u001b[39m\u001b[38;5;241m.\u001b[39m_setter \u001b[38;5;241m=\u001b[39m setter\n\u001b[1;32m     19\u001b[0m         \u001b[38;5;28;01mreturn\u001b[39;00m \u001b[38;5;28mself\u001b[39m\n\u001b[0;32m---> 22\u001b[0m \u001b[38;5;28;01mclass\u001b[39;00m \u001b[38;5;21;01mTest\u001b[39;00m:\n\u001b[1;32m     23\u001b[0m     \u001b[38;5;28;01mdef\u001b[39;00m \u001b[38;5;21m__init__\u001b[39m(\u001b[38;5;28mself\u001b[39m):\n\u001b[1;32m     24\u001b[0m         \u001b[38;5;28mself\u001b[39m\u001b[38;5;241m.\u001b[39m_x \u001b[38;5;241m=\u001b[39m \u001b[38;5;241m0\u001b[39m\n",
      "Cell \u001b[0;32mIn[26], line 30\u001b[0m, in \u001b[0;36mTest\u001b[0;34m()\u001b[0m\n\u001b[1;32m     26\u001b[0m \u001b[38;5;129m@SomeProperty\u001b[39m\n\u001b[1;32m     27\u001b[0m \u001b[38;5;28;01mdef\u001b[39;00m \u001b[38;5;21mx\u001b[39m(\u001b[38;5;28mself\u001b[39m):\n\u001b[1;32m     28\u001b[0m     \u001b[38;5;28;01mreturn\u001b[39;00m \u001b[38;5;28mself\u001b[39m\u001b[38;5;241m.\u001b[39m_x\n\u001b[0;32m---> 30\u001b[0m \u001b[38;5;129m@x\u001b[39m\u001b[38;5;241m.\u001b[39msetter\n\u001b[1;32m     31\u001b[0m \u001b[38;5;28;01mdef\u001b[39;00m \u001b[38;5;21mx\u001b[39m(\u001b[38;5;28mself\u001b[39m, value):\n\u001b[1;32m     32\u001b[0m     \u001b[38;5;28;01mif\u001b[39;00m value \u001b[38;5;241m<\u001b[39m \u001b[38;5;241m0\u001b[39m:\n\u001b[1;32m     33\u001b[0m         \u001b[38;5;28;01mraise\u001b[39;00m \u001b[38;5;167;01mValueError\u001b[39;00m(\u001b[38;5;124m\"\u001b[39m\u001b[38;5;124mMust be non-negative\u001b[39m\u001b[38;5;124m\"\u001b[39m)\n",
      "\u001b[0;31mTypeError\u001b[0m: 'NoneType' object is not callable"
     ]
    }
   ],
   "source": [
    "#self=SomeProperty instance, instance=Test instance, owner=Test class\n",
    "class SomeProperty:\n",
    "    def __init__(self, getter, setter=None):\n",
    "        self.getter = getter\n",
    "        self.setter = setter\n",
    "\n",
    "    def __get__(self, instance, owner):\n",
    "        if instance is None:\n",
    "            return self\n",
    "        return self.getter(instance)\n",
    "\n",
    "    def __set__(self, instance, value):\n",
    "        if not self.setter:\n",
    "            raise AttributeError(\"can't set attribute\")\n",
    "        self.setter(instance, value)\n",
    "\n",
    "    def setter(self, setter):\n",
    "        return type(self)(self.getter, setter)\n",
    "\n",
    "\n",
    "class Test:\n",
    "    def __init__(self):\n",
    "        self._x = 0\n",
    "\n",
    "    @SomeProperty\n",
    "    def x(self):\n",
    "        return self._x\n",
    "\n",
    "    @x.setter\n",
    "    def x(self, value):\n",
    "        if value < 0:\n",
    "            raise ValueError(\"Must be non-negative\")\n",
    "        self._x = value\n",
    "    \n",
    "t = Test()\n",
    "t.x\n",
    "    \n",
    "t = Test()\n",
    "print(f\"{vars(t)=}\")\n",
    "print(t.x)\n",
    "t.x = 5\n",
    "print(f\"{vars(t)=}\")\n",
    "print(t.__dict__)\n"
   ]
  },
  {
   "cell_type": "code",
   "execution_count": 18,
   "id": "648c336b",
   "metadata": {},
   "outputs": [
    {
     "data": {
      "text/plain": [
       "int"
      ]
     },
     "execution_count": 18,
     "metadata": {},
     "output_type": "execute_result"
    }
   ],
   "source": [
    "type(t.x)"
   ]
  },
  {
   "cell_type": "code",
   "execution_count": null,
   "id": "2186f2ea",
   "metadata": {},
   "outputs": [],
   "source": []
  },
  {
   "cell_type": "code",
   "execution_count": null,
   "id": "d4d1aab8",
   "metadata": {},
   "outputs": [],
   "source": []
  },
  {
   "cell_type": "code",
   "execution_count": null,
   "id": "f75385af",
   "metadata": {},
   "outputs": [],
   "source": []
  },
  {
   "cell_type": "code",
   "execution_count": null,
   "id": "c694825d",
   "metadata": {},
   "outputs": [],
   "source": []
  },
  {
   "cell_type": "code",
   "execution_count": 9,
   "id": "43b0cc5a",
   "metadata": {},
   "outputs": [
    {
     "data": {
      "text/plain": [
       "0"
      ]
     },
     "execution_count": 9,
     "metadata": {},
     "output_type": "execute_result"
    }
   ],
   "source": [
    "class Property:\n",
    "    def __init__(self, fget):\n",
    "        self.fget = fget\n",
    "\n",
    "    def __get__(self, instance, owner):\n",
    "        if instance is None:\n",
    "            return self\n",
    "        if self.fget is None:\n",
    "            raise AttributeError(\"unreadable attribute\")\n",
    "        return self.fget(instance)\n",
    "\n",
    "\n",
    "class Test:\n",
    "    def __init__(self):\n",
    "        self._x = 0\n",
    "\n",
    "    @Property\n",
    "    def x(self):\n",
    "        return self._x\n",
    "    \n",
    "t = Test()\n",
    "t.x"
   ]
  },
  {
   "cell_type": "code",
   "execution_count": null,
   "id": "c0fa9939",
   "metadata": {},
   "outputs": [],
   "source": []
  }
 ],
 "metadata": {
  "kernelspec": {
   "display_name": "Python 3 (ipykernel)",
   "language": "python",
   "name": "python3"
  },
  "language_info": {
   "codemirror_mode": {
    "name": "ipython",
    "version": 3
   },
   "file_extension": ".py",
   "mimetype": "text/x-python",
   "name": "python",
   "nbconvert_exporter": "python",
   "pygments_lexer": "ipython3",
   "version": "3.11.4"
  }
 },
 "nbformat": 4,
 "nbformat_minor": 5
}
