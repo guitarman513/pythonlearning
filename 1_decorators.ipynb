{
 "cells": [
  {
   "cell_type": "markdown",
   "id": "f517de71",
   "metadata": {},
   "source": [
    "### Simple Decorator"
   ]
  },
  {
   "cell_type": "code",
   "execution_count": 1,
   "id": "30c4fb84",
   "metadata": {},
   "outputs": [
    {
     "name": "stdout",
     "output_type": "stream",
     "text": [
      "undecorated\n"
     ]
    }
   ],
   "source": [
    "def add_stars(func): # This function add_stars will receive a function as an input\n",
    "    def func_that_gets_returned(*args, **kwargs): \n",
    "        # This name doesn't matter. It's what the decorated function gets transformed into\n",
    "        # Note that *args and **kwargs could be anything. Doing this allows the decorated function to \n",
    "        # have any signature, and this decorator will allow it to work\n",
    "        print('*'*15)\n",
    "        func(*args, **kwargs) # execute the function like normal\n",
    "        print('*'*15)\n",
    "    return func_that_gets_returned\n",
    "\n",
    "def print_something(phrase):\n",
    "    print(phrase)\n",
    "    \n",
    "\n",
    "print_something(\"undecorated\")"
   ]
  },
  {
   "cell_type": "code",
   "execution_count": 2,
   "id": "5801c9e7",
   "metadata": {},
   "outputs": [
    {
     "name": "stdout",
     "output_type": "stream",
     "text": [
      "***************\n",
      "decorated\n",
      "***************\n"
     ]
    }
   ],
   "source": [
    "def add_stars(func): # This function add_stars will receive a function as an input\n",
    "    def func_that_gets_returned(*args, **kwargs): \n",
    "        # This name doesn't matter. It's what the decorated function gets transformed into\n",
    "        # Note that *args and **kwargs could be anything. Doing this allows the decorated function to \n",
    "        # have any signature, and this decorator will allow it to work\n",
    "        print('*'*15)\n",
    "        func(*args, **kwargs) # execute the function like normal\n",
    "        print('*'*15)\n",
    "    return func_that_gets_returned\n",
    "\n",
    "@add_stars\n",
    "def print_something(phrase):\n",
    "    print(phrase)\n",
    "    \n",
    "\n",
    "print_something(\"decorated\")"
   ]
  },
  {
   "cell_type": "markdown",
   "id": "4abf811f",
   "metadata": {},
   "source": [
    "### Error when inner func doesn't account for function signature of the original function"
   ]
  },
  {
   "cell_type": "code",
   "execution_count": 5,
   "id": "6e1c7573",
   "metadata": {},
   "outputs": [
    {
     "ename": "TypeError",
     "evalue": "add_stars.<locals>.func_that_gets_returned() takes 0 positional arguments but 1 was given",
     "output_type": "error",
     "traceback": [
      "\u001b[0;31m---------------------------------------------------------------------------\u001b[0m",
      "\u001b[0;31mTypeError\u001b[0m                                 Traceback (most recent call last)",
      "Cell \u001b[0;32mIn[5], line 15\u001b[0m\n\u001b[1;32m     10\u001b[0m \u001b[38;5;129m@add_stars\u001b[39m\n\u001b[1;32m     11\u001b[0m \u001b[38;5;28;01mdef\u001b[39;00m \u001b[38;5;21mprint_something\u001b[39m(phrase):\n\u001b[1;32m     12\u001b[0m     \u001b[38;5;28mprint\u001b[39m(phrase)\n\u001b[0;32m---> 15\u001b[0m print_something(\u001b[38;5;124m\"\u001b[39m\u001b[38;5;124mdecorated\u001b[39m\u001b[38;5;124m\"\u001b[39m)\n",
      "\u001b[0;31mTypeError\u001b[0m: add_stars.<locals>.func_that_gets_returned() takes 0 positional arguments but 1 was given"
     ]
    }
   ],
   "source": [
    "def add_stars(func): # This function add_stars will receive a function as an input\n",
    "    def func_that_gets_returned(): \n",
    "        # This name doesn't matter. It's what the decorated function gets transformed into\n",
    "        # have any signature, and this decorator will allow it to work\n",
    "        print('*'*15)\n",
    "        func() # execute the function like normal\n",
    "        print('*'*15)\n",
    "    return func_that_gets_returned\n",
    "\n",
    "@add_stars\n",
    "def print_something(phrase):\n",
    "    print(phrase)\n",
    "    \n",
    "\n",
    "print_something(\"decorated\")"
   ]
  },
  {
   "cell_type": "markdown",
   "id": "cc0866b3",
   "metadata": {},
   "source": [
    "### What you have to do without decorators"
   ]
  },
  {
   "cell_type": "code",
   "execution_count": 8,
   "id": "405fa3df",
   "metadata": {},
   "outputs": [
    {
     "name": "stdout",
     "output_type": "stream",
     "text": [
      "***************\n",
      "with stars\n",
      "***************\n",
      "***************\n",
      "decorated without the @ sign!\n",
      "***************\n"
     ]
    }
   ],
   "source": [
    "def add_stars(func): # This function add_stars will receive a function as an input\n",
    "    def func_that_gets_returned(*args, **kwargs): \n",
    "        # This name doesn't matter. It's what the decorated function gets transformed into\n",
    "        # Note that *args and **kwargs could be anything. Doing this allows the decorated function to \n",
    "        # have any signature, and this decorator will allow it to work\n",
    "        print('*'*15)\n",
    "        func(*args, **kwargs) # execute the function like normal\n",
    "        print('*'*15)\n",
    "    return func_that_gets_returned\n",
    "\n",
    "def print_something(phrase):\n",
    "    print(phrase)\n",
    "    \n",
    "\n",
    "# You could make a new function if you want to avoid clobbering the name of `print_something`\n",
    "print_something_with_stars = add_stars(print_something)\n",
    "print_something_with_stars(\"with stars\")    \n",
    "\n",
    "print_something = add_stars(print_something)\n",
    "# This is un-pythonic, but shows you exactly what happens\n",
    "# The `print_something` function no longer exists as it used to.\n",
    "\n",
    "\n",
    "print_something(\"decorated without the @ sign!\")"
   ]
  },
  {
   "cell_type": "markdown",
   "id": "fc99aca3",
   "metadata": {},
   "source": [
    "# DECORATORS WITH CLASSES\n",
    "\n",
    "### The below add_stars decorator is unchanged, and still works. The signature is misleading, because `func` is really a class object commonly abbreviated as `cls`. Either way, the args/kwargs will be passed like before. "
   ]
  },
  {
   "cell_type": "code",
   "execution_count": 12,
   "id": "55999da3",
   "metadata": {},
   "outputs": [
    {
     "name": "stdout",
     "output_type": "stream",
     "text": [
      "in class constructor\n",
      "\n",
      "\n",
      "\n",
      "\n",
      "***************\n",
      "in class constructor with stars around it\n",
      "***************\n"
     ]
    }
   ],
   "source": [
    "def add_stars(func): # This function add_stars will receive a function as an input\n",
    "    def func_that_gets_returned(*args, **kwargs): \n",
    "        # This name doesn't matter. It's what the decorated function gets transformed into\n",
    "        # Note that *args and **kwargs could be anything. Doing this allows the decorated function to \n",
    "        # have any signature, and this decorator will allow it to work\n",
    "        print('*'*15)\n",
    "        func(*args, **kwargs) # execute the function like normal\n",
    "        print('*'*15)\n",
    "    return func_that_gets_returned\n",
    "\n",
    "class A:\n",
    "    def __init__(self,a):\n",
    "        self.a=a\n",
    "        print(\"in class constructor\")\n",
    "\n",
    "a = A(1)\n",
    "\n",
    "\n",
    "print('\\n'*3)\n",
    "\n",
    "@add_stars\n",
    "class B:\n",
    "    def __init__(self,a):\n",
    "        self.a=a\n",
    "        print(\"in class constructor with stars around it\")\n",
    "\n",
    "b = B(1)"
   ]
  },
  {
   "cell_type": "markdown",
   "id": "0eb190c7",
   "metadata": {},
   "source": [
    "### Important^ See how args and kwargs (in the above case, just the parameter `a`) are passed to the decorated class still, becuase the new class definition is `func_that_gets_returned`. First `func_that_gets_returned` prints stars, then it passes all your args/kwargs to whatever definition it just overwrote, then whenever the code kicked off by the constructor is done, more stars are printed. Cool!"
   ]
  },
  {
   "cell_type": "code",
   "execution_count": null,
   "id": "31a231e9",
   "metadata": {},
   "outputs": [],
   "source": []
  }
 ],
 "metadata": {
  "kernelspec": {
   "display_name": "Python 3 (ipykernel)",
   "language": "python",
   "name": "python3"
  },
  "language_info": {
   "codemirror_mode": {
    "name": "ipython",
    "version": 3
   },
   "file_extension": ".py",
   "mimetype": "text/x-python",
   "name": "python",
   "nbconvert_exporter": "python",
   "pygments_lexer": "ipython3",
   "version": "3.11.4"
  }
 },
 "nbformat": 4,
 "nbformat_minor": 5
}
